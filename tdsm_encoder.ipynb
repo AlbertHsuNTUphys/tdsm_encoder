{
 "cells": [
  {
   "cell_type": "markdown",
   "id": "b42a868f",
   "metadata": {},
   "source": [
    "# tdsm encoder\n",
    "Here provides the interface of interacting with function in `util` to perform the training & sampling of generative model. "
   ]
  },
  {
   "cell_type": "markdown",
   "id": "9665c976",
   "metadata": {},
   "source": [
    "## import model"
   ]
  },
  {
   "cell_type": "code",
   "execution_count": 1,
   "id": "4f48dd31",
   "metadata": {},
   "outputs": [
    {
     "name": "stdout",
     "output_type": "stream",
     "text": [
      "torch version:  1.11.0a0+gitbc2c6ed\n",
      "Running on device:  cuda\n",
      "Cuda used to build pyTorch:  11.2\n",
      "Current device:  0\n",
      "Cuda arch list:  ['sm_37', 'sm_50', 'sm_60', 'sm_61', 'sm_70', 'sm_75', 'compute_37']\n",
      "Working directory:  ./\n",
      "['/eos/user/j/jthomasw/tdsm_encoder/datasets/test/dataset_1_photons_padded_nentry121To150.pt']\n",
      "+--------------------------------+-------------------+\n",
      "|          Module name           | Parameters listed |\n",
      "+--------------------------------+-------------------+\n",
      "|           cls_token            |        512        |\n",
      "|          embed.weight          |        2048       |\n",
      "|           embed.bias           |        512        |\n",
      "|        embed_t.1.weight        |       262144      |\n",
      "|         embed_t.1.bias         |        512        |\n",
      "|      dense1.dense.weight       |        512        |\n",
      "|       dense1.dense.bias        |         1         |\n",
      "| encoder.0.attn.in_proj_weight  |       786432      |\n",
      "|  encoder.0.attn.in_proj_bias   |        1536       |\n",
      "| encoder.0.attn.out_proj.weight |       262144      |\n",
      "|  encoder.0.attn.out_proj.bias  |        512        |\n",
      "|    encoder.0.ffnn.0.weight     |       65536       |\n",
      "|     encoder.0.ffnn.0.bias      |        128        |\n",
      "|    encoder.0.ffnn.3.weight     |       65536       |\n",
      "|     encoder.0.ffnn.3.bias      |        512        |\n",
      "|     encoder.0.norm1.weight     |        512        |\n",
      "|      encoder.0.norm1.bias      |        512        |\n",
      "|     encoder.0.norm2.weight     |        512        |\n",
      "|      encoder.0.norm2.bias      |        512        |\n",
      "| encoder.1.attn.in_proj_weight  |       786432      |\n",
      "|  encoder.1.attn.in_proj_bias   |        1536       |\n",
      "| encoder.1.attn.out_proj.weight |       262144      |\n",
      "|  encoder.1.attn.out_proj.bias  |        512        |\n",
      "|    encoder.1.ffnn.0.weight     |       65536       |\n",
      "|     encoder.1.ffnn.0.bias      |        128        |\n",
      "|    encoder.1.ffnn.3.weight     |       65536       |\n",
      "|     encoder.1.ffnn.3.bias      |        512        |\n",
      "|     encoder.1.norm1.weight     |        512        |\n",
      "|      encoder.1.norm1.bias      |        512        |\n",
      "|     encoder.1.norm2.weight     |        512        |\n",
      "|      encoder.1.norm2.bias      |        512        |\n",
      "| encoder.2.attn.in_proj_weight  |       786432      |\n",
      "|  encoder.2.attn.in_proj_bias   |        1536       |\n",
      "| encoder.2.attn.out_proj.weight |       262144      |\n",
      "|  encoder.2.attn.out_proj.bias  |        512        |\n",
      "|    encoder.2.ffnn.0.weight     |       65536       |\n",
      "|     encoder.2.ffnn.0.bias      |        128        |\n",
      "|    encoder.2.ffnn.3.weight     |       65536       |\n",
      "|     encoder.2.ffnn.3.bias      |        512        |\n",
      "|     encoder.2.norm1.weight     |        512        |\n",
      "|      encoder.2.norm1.bias      |        512        |\n",
      "|     encoder.2.norm2.weight     |        512        |\n",
      "|      encoder.2.norm2.bias      |        512        |\n",
      "|           out.weight           |        2048       |\n",
      "|            out.bias            |         4         |\n",
      "+--------------------------------+-------------------+\n",
      "Sum of trainable parameters: 3821445\n"
     ]
    }
   ],
   "source": [
    "import time, functools, torch, os,sys, random, fnmatch, psutil\n",
    "from datetime import datetime\n",
    "import numpy as np\n",
    "import matplotlib.pyplot as plt\n",
    "import torch.nn as nn\n",
    "import torch.nn.functional as F\n",
    "from torch.optim import Adam,RAdam\n",
    "import torchvision.transforms as transforms\n",
    "from torch.utils.data import Dataset, DataLoader\n",
    "import trans_tdsm, utils\n",
    "from prettytable import PrettyTable\n",
    "import util.dataset_structure, util.display, util.model\n",
    "import tqdm\n",
    "\n",
    "device = 'cuda' if torch.cuda.is_available() else 'cpu'\n",
    "padding_value = -20\n",
    "\n",
    "dataset = \"dataset_1_photons_padded_nentry\"\n",
    "dataset_store_path = \"/eos/user/j/jthomasw/tdsm_encoder/datasets/test/\"\n",
    "transform = None\n",
    "transform_y = None\n",
    "mask = True\n",
    "jupyternotebook = True\n",
    "\n",
    "workingdir = \"./\"\n",
    "### HYPERPARAMETERS ###\n",
    "train_ratio = 0.9\n",
    "batch_size = 64\n",
    "lr = 0.00001\n",
    "n_epochs = 5\n",
    "### SDE PARAMETERS ###\n",
    "SDE = 'VE'\n",
    "sigma_max = 50.\n",
    "### MODEL PARAMETERS ###\n",
    "n_feat_dim = 4\n",
    "embed_dim = 512\n",
    "hidden_dim = 128\n",
    "num_encoder_blocks = 3\n",
    "num_attn_heads = 8\n",
    "dropout_gen = 0\n",
    "\n",
    "# Instantiate stochastic differential equation\n",
    "if SDE == 'VP':\n",
    "    sde = utils.VPSDE(beta_max=sigma_max,device=device)\n",
    "if SDE == 'VE':\n",
    "    sde = utils.VESDE(sigma_max=sigma_max,device=device)\n",
    "marginal_prob_std_fn = functools.partial(sde.marginal_prob)\n",
    "diffusion_coeff_fn = functools.partial(sde.sde)\n",
    "\n",
    "print('torch version: ', torch.__version__)\n",
    "print('Running on device: ', device)\n",
    "if torch.cuda.is_available():\n",
    "    print('Cuda used to build pyTorch: ',torch.version.cuda)\n",
    "    print('Current device: ', torch.cuda.current_device())\n",
    "    print('Cuda arch list: ', torch.cuda.get_arch_list())\n",
    "\n",
    "print('Working directory: ', workingdir)\n",
    "\n",
    "files_list_ = []\n",
    "for filename in os.listdir(dataset_store_path):\n",
    "    if fnmatch.fnmatch(filename, dataset + '12*.pt'):\n",
    "        files_list_.append(os.path.join(dataset_store_path, filename))\n",
    "print(files_list_)\n",
    "\n",
    "model=trans_tdsm.Gen(n_feat_dim, embed_dim, hidden_dim, num_encoder_blocks, num_attn_heads, dropout_gen, marginal_prob_std=marginal_prob_std_fn)\n",
    "\n",
    "table = PrettyTable(['Module name', 'Parameters listed'])\n",
    "t_params = 0\n",
    "for name_ , para_ in model.named_parameters():\n",
    "    if not para_.requires_grad: continue\n",
    "    param = para_.numel()\n",
    "    table.add_row([name_, param])\n",
    "    t_params+=param\n",
    "print(table)\n",
    "print(f'Sum of trainable parameters: {t_params}')    "
   ]
  },
  {
   "cell_type": "markdown",
   "id": "681173e7",
   "metadata": {},
   "source": [
    "## Plot data distribution (Optional)"
   ]
  },
  {
   "cell_type": "code",
   "execution_count": 2,
   "id": "0b7a9ecc",
   "metadata": {
    "scrolled": false
   },
   "outputs": [
    {
     "name": "stdout",
     "output_type": "stream",
     "text": [
      "filename: /eos/user/j/jthomasw/tdsm_encoder/datasets/test/dataset_1_photons_padded_nentry121To150.pt\n",
      "Plot # entries\n",
      "Plot incident energies\n",
      "Plot hit energies\n",
      "Plot hit x\n",
      "Plot hit y\n",
      "Plot hit z\n"
     ]
    },
    {
     "data": {
      "image/png": "[encoded data removed]",
      "text/plain": [
       "<Figure size 864x864 with 6 Axes>"
      ]
     },
     "metadata": {
      "needs_background": "light"
     },
     "output_type": "display_data"
    }
   ],
   "source": [
    "fig = util.display.plot_distribution(files_list_, label=\"Geant4\")\n",
    "fig.show()"
   ]
  },
  {
   "cell_type": "markdown",
   "id": "25ad8532",
   "metadata": {},
   "source": [
    "## Training"
   ]
  },
  {
   "cell_type": "code",
   "execution_count": 6,
   "id": "a7dd95fa",
   "metadata": {
    "scrolled": true
   },
   "outputs": [
    {
     "data": {
      "application/vnd.jupyter.widget-view+json": {
       "model_id": "cde2063c29cd43a8be00f09c406bc739",
       "version_major": 2,
       "version_minor": 0
      },
      "text/plain": [
       "  0%|          | 0/5 [00:00<?, ?it/s]"
      ]
     },
     "metadata": {},
     "output_type": "display_data"
    },
    {
     "data": {
      "image/png": "[encoded data removed]",
      "text/plain": [
       "<Figure size 288x288 with 1 Axes>"
      ]
     },
     "metadata": {},
     "output_type": "display_data"
    },
    {
     "name": "stdout",
     "output_type": "stream",
     "text": [
      "['/eos/user/j/jthomasw/tdsm_encoder/datasets/test/dataset_1_photons_padded_nentry121To150.pt']\n",
      "Training\n",
      "Testing\n",
      "Training\n",
      "Testing\n",
      "Training\n",
      "Testing\n",
      "Training\n",
      "Testing\n",
      "Training\n",
      "Testing\n"
     ]
    },
    {
     "data": {
      "image/png": "[encoded data removed]",
      "text/plain": [
       "<Figure size 288x288 with 1 Axes>"
      ]
     },
     "metadata": {
      "needs_background": "light"
     },
     "output_type": "display_data"
    }
   ],
   "source": [
    "output_directory = workingdir+'/training_'+datetime.now().strftime('%Y%m%d_%H%M')+'_output/'\n",
    "if not os.path.exists(output_directory):\n",
    "            os.makedirs(output_directory)\n",
    "optimiser = RAdam(model.parameters(),lr=lr)\n",
    "av_training_losses_per_epoch = []\n",
    "av_testing_losses_per_epoch = []\n",
    "\n",
    "fig, ax = plt.subplots(ncols=1, figsize=(4,4))\n",
    "epochs = tqdm.notebook.trange(n_epochs)\n",
    "from IPython import display\n",
    "dh = display.display(fig, display_id=True)\n",
    "\n",
    "files_list_ = []\n",
    "for filename in os.listdir(dataset_store_path):\n",
    "    if fnmatch.fnmatch(filename, dataset + '12*.pt'):\n",
    "        files_list_.append(os.path.join(dataset_store_path, filename))\n",
    "print(files_list_)\n",
    "\n",
    "for epoch in epochs:\n",
    "\n",
    "    # Create/clear per epoch variables\n",
    "    cumulative_epoch_loss = 0.\n",
    "    cumulative_test_epoch_loss = 0.\n",
    "\n",
    "    file_counter = 0\n",
    "    n_training_showers = 0\n",
    "    n_testing_showers = 0\n",
    "    training_batches_per_epoch = 0\n",
    "    testing_batches_per_epoch = 0\n",
    "\n",
    "    # Load files\n",
    "    for filename in files_list_:\n",
    "\n",
    "        custom_data = utils.cloud_dataset(filename, device=device)\n",
    "        train_size = int(0.9 * len(custom_data.data))\n",
    "        test_size = len(custom_data.data) - train_size\n",
    "        train_dataset, test_dataset = torch.utils.data.random_split(custom_data, [train_size, test_size])\n",
    "\n",
    "        n_training_showers+=train_size\n",
    "        n_testing_showers+=test_size\n",
    "        # Load clouds for each epoch of data dataloaders length will be the number of batches\n",
    "        shower_loader_train = DataLoader(train_dataset, batch_size=batch_size, shuffle=True)\n",
    "        shower_loader_test = DataLoader(test_dataset, batch_size=batch_size, shuffle=True)\n",
    "        \n",
    "        # Accumuate number of batches per epoch\n",
    "        training_batches_per_epoch += len(shower_loader_train)\n",
    "        testing_batches_per_epoch += len(shower_loader_test)\n",
    "        \n",
    "        # Load shower batch for training\n",
    "        for i, (shower_data,incident_energies) in enumerate(shower_loader_train,0):\n",
    "            # Move model to device and set dtype as same as data (note torch.double works on both CPU and GPU)\n",
    "            model.to(device, shower_data.dtype)\n",
    "            model.train()\n",
    "            shower_data = shower_data.to(device)\n",
    "            incident_energies = incident_energies.to(device)\n",
    "            \n",
    "            if len(shower_data) < 1:\n",
    "                print('Very few hits in shower: ', len(shower_data))\n",
    "                continue\n",
    "            # Zero any gradients from previous steps\n",
    "            optimiser.zero_grad()\n",
    "            # Loss average for each batch\n",
    "            loss = trans_tdsm.loss_fn(model, shower_data, incident_energies, marginal_prob_std_fn, device=device)\n",
    "            # Accumulate batch loss per epoch\n",
    "            cumulative_epoch_loss+=float(loss)\n",
    "            # collect dL/dx for any parameters (x) which have requires_grad = True via: x.grad += dL/dx\n",
    "            #loss.backward(retain_graph=True)\n",
    "            loss.backward()\n",
    "            # Update value of x += -lr * x.grad\n",
    "            optimiser.step()\n",
    "            \n",
    "        # Testing on subset of file\n",
    "        for i, (shower_data,incident_energies) in enumerate(shower_loader_test,0):\n",
    "            with torch.no_grad():\n",
    "                model.eval()\n",
    "                shower_data = shower_data.to(device)\n",
    "                incident_energies = incident_energies.to(device)\n",
    "                test_loss = trans_tdsm.loss_fn(model, shower_data, incident_energies, marginal_prob_std_fn, device=device)\n",
    "                cumulative_test_epoch_loss+=float(test_loss)\n",
    "    \n",
    "    # Calculate average loss per epoch\n",
    "    av_training_losses_per_epoch.append(cumulative_epoch_loss/training_batches_per_epoch)\n",
    "    av_testing_losses_per_epoch.append(cumulative_test_epoch_loss/testing_batches_per_epoch)\n",
    "    epochs.set_description('Average Loss: {:5f}(Train) {:5f}(Test)'.format(cumulative_epoch_loss/training_batches_per_epoch, cumulative_test_epoch_loss/testing_batches_per_epoch))\n",
    "    fig, ax = plt.subplots(ncols=1, figsize=(4,4))\n",
    "    plt.title('')\n",
    "    plt.ylabel('Loss')\n",
    "    plt.xlabel('Epoch')\n",
    "    plt.yscale('log')\n",
    "    plt.plot(av_training_losses_per_epoch, label='training')\n",
    "    plt.plot(av_testing_losses_per_epoch, label='testing')\n",
    "    plt.legend(loc='upper right')\n",
    "    dh.update(fig)\n",
    "    if epoch == len(epochs):\n",
    "        fig.savefig(output_directory+'loss_v_epoch.png')\n",
    "    plt.close(fig)\n",
    "\n",
    "torch.save(model.state_dict(), output_directory+'ckpt_tmp_'+str(epoch)+'.pth')\n"
   ]
  },
  {
   "cell_type": "markdown",
   "id": "28c5a04c",
   "metadata": {},
   "source": [
    "## Sampling "
   ]
  },
  {
   "cell_type": "code",
   "execution_count": 7,
   "id": "26d03caa",
   "metadata": {
    "scrolled": true
   },
   "outputs": [
    {
     "name": "stdout",
     "output_type": "stream",
     "text": [
      "Max hits taken from ['/eos/user/j/jthomasw/tdsm_encoder/datasets/test/dataset_1_photons_padded_nentry121To150.pt']\n"
     ]
    },
    {
     "name": "stderr",
     "output_type": "stream",
     "text": [
      "/eos/home-i01/j/jthomasw/tdsm_encoder/trans_tdsm.py:371: RuntimeWarning:\n",
      "\n",
      "invalid value encountered in true_divide\n",
      "\n"
     ]
    },
    {
     "data": {
      "image/png": "[encoded data removed]",
      "text/plain": [
       "<Figure size 432x288 with 2 Axes>"
      ]
     },
     "metadata": {},
     "output_type": "display_data"
    },
    {
     "name": "stdout",
     "output_type": "stream",
     "text": [
      "in_energies: tensor([14.7643, 28.3953,  6.0099, 27.2845, 23.9453, 21.4988,  9.3789, 18.9909,\n",
      "        15.7352,  5.3336, 20.1672, 25.3718, 10.2178, 22.7975, 28.4820, 15.8834,\n",
      "        20.1236, 12.3433, 21.2529, 24.5652, 29.0082,  6.0044, 16.6612, 14.0531,\n",
      "         6.8974,  0.8468,  0.0541, 28.7460, 14.7647, 16.0126, 23.1294,  2.2763,\n",
      "         7.9036, 23.5481, 12.3699,  9.6117,  7.6495,  3.2061, 25.8962, 12.1923,\n",
      "         8.3975, 10.5019, 19.2452, 20.6958,  5.5843,  6.6823, 24.2205, 28.4199,\n",
      "        17.2572,  7.3477, 17.6769, 27.9437, 22.3514, 12.5388,  5.1171,  2.6252,\n",
      "        12.3296, 24.2640,  8.4102, 16.0671, 28.8163, 21.4044, 19.7709,  4.6693,\n",
      "        17.1589, 15.3588, 26.1276,  1.6840,  5.3162,  8.7368, 19.6507,  2.9275,\n",
      "         9.0325,  2.5670,  6.2651, 27.4606, 17.0961, 26.8459,  1.4260, 16.2221,\n",
      "         1.1402, 23.8400,  1.7524,  1.5283, 28.6187,  9.5304,  2.5289, 25.7959,\n",
      "        13.6935, 23.5299, 10.0299, 23.8343,  7.6092,  8.6864, 14.0619,  6.0091,\n",
      "        16.0593, 18.8955, 15.1252,  1.4467])\n"
     ]
    },
    {
     "data": {
      "image/png": "[encoded data removed]",
      "text/plain": [
       "<Figure size 432x288 with 2 Axes>"
      ]
     },
     "metadata": {},
     "output_type": "display_data"
    },
    {
     "name": "stdout",
     "output_type": "stream",
     "text": [
      "Generation batch 0: showers per batch: 10, max. hits per shower: 148, features per hit: 4, sampled_energies: 10\n",
      "\r",
      "Progress: 1/10"
     ]
    },
    {
     "data": {
      "application/vnd.jupyter.widget-view+json": {
       "model_id": "f11a7b836bce4134aacd383dade16146",
       "version_major": 2,
       "version_minor": 0
      },
      "text/plain": [
       "  0%|          | 0/100 [00:00<?, ?it/s]"
      ]
     },
     "metadata": {},
     "output_type": "display_data"
    },
    {
     "name": "stdout",
     "output_type": "stream",
     "text": [
      "sample: torch.Size([10, 148, 4])\n",
      "Generation batch 1: showers per batch: 10, max. hits per shower: 148, features per hit: 4, sampled_energies: 10\n",
      "\r",
      "Progress: 2/10"
     ]
    },
    {
     "data": {
      "application/vnd.jupyter.widget-view+json": {
       "model_id": "aa115ccfc18f4242b717661a9336807e",
       "version_major": 2,
       "version_minor": 0
      },
      "text/plain": [
       "  0%|          | 0/100 [00:00<?, ?it/s]"
      ]
     },
     "metadata": {},
     "output_type": "display_data"
    },
    {
     "name": "stdout",
     "output_type": "stream",
     "text": [
      "sample: torch.Size([20, 148, 4])\n",
      "Generation batch 2: showers per batch: 10, max. hits per shower: 148, features per hit: 4, sampled_energies: 10\n",
      "\r",
      "Progress: 3/10"
     ]
    },
    {
     "data": {
      "application/vnd.jupyter.widget-view+json": {
       "model_id": "ee8e600813c84d71b9a4a2fb29f8100e",
       "version_major": 2,
       "version_minor": 0
      },
      "text/plain": [
       "  0%|          | 0/100 [00:00<?, ?it/s]"
      ]
     },
     "metadata": {},
     "output_type": "display_data"
    },
    {
     "name": "stdout",
     "output_type": "stream",
     "text": [
      "sample: torch.Size([30, 148, 4])\n",
      "Generation batch 3: showers per batch: 10, max. hits per shower: 148, features per hit: 4, sampled_energies: 10\n",
      "\r",
      "Progress: 4/10"
     ]
    },
    {
     "data": {
      "application/vnd.jupyter.widget-view+json": {
       "model_id": "8615e47382b949a3882ba5651cf52adb",
       "version_major": 2,
       "version_minor": 0
      },
      "text/plain": [
       "  0%|          | 0/100 [00:00<?, ?it/s]"
      ]
     },
     "metadata": {},
     "output_type": "display_data"
    },
    {
     "name": "stdout",
     "output_type": "stream",
     "text": [
      "sample: torch.Size([40, 148, 4])\n",
      "Generation batch 4: showers per batch: 10, max. hits per shower: 148, features per hit: 4, sampled_energies: 10\n",
      "\r",
      "Progress: 5/10"
     ]
    },
    {
     "data": {
      "application/vnd.jupyter.widget-view+json": {
       "model_id": "f51d657ef71e45aeb39c01f5f4bd9c58",
       "version_major": 2,
       "version_minor": 0
      },
      "text/plain": [
       "  0%|          | 0/100 [00:00<?, ?it/s]"
      ]
     },
     "metadata": {},
     "output_type": "display_data"
    },
    {
     "name": "stdout",
     "output_type": "stream",
     "text": [
      "sample: torch.Size([50, 148, 4])\n",
      "Generation batch 5: showers per batch: 10, max. hits per shower: 148, features per hit: 4, sampled_energies: 10\n",
      "\r",
      "Progress: 6/10"
     ]
    },
    {
     "data": {
      "application/vnd.jupyter.widget-view+json": {
       "model_id": "2f91fced48124b63b4de3da23abcafc1",
       "version_major": 2,
       "version_minor": 0
      },
      "text/plain": [
       "  0%|          | 0/100 [00:00<?, ?it/s]"
      ]
     },
     "metadata": {},
     "output_type": "display_data"
    },
    {
     "name": "stdout",
     "output_type": "stream",
     "text": [
      "sample: torch.Size([60, 148, 4])\n",
      "Generation batch 6: showers per batch: 10, max. hits per shower: 148, features per hit: 4, sampled_energies: 10\n",
      "\r",
      "Progress: 7/10"
     ]
    },
    {
     "data": {
      "application/vnd.jupyter.widget-view+json": {
       "model_id": "adbc88531aa74f9aadc71195b5c6820c",
       "version_major": 2,
       "version_minor": 0
      },
      "text/plain": [
       "  0%|          | 0/100 [00:00<?, ?it/s]"
      ]
     },
     "metadata": {},
     "output_type": "display_data"
    },
    {
     "name": "stdout",
     "output_type": "stream",
     "text": [
      "sample: torch.Size([70, 148, 4])\n",
      "Generation batch 7: showers per batch: 10, max. hits per shower: 148, features per hit: 4, sampled_energies: 10\n",
      "\r",
      "Progress: 8/10"
     ]
    },
    {
     "data": {
      "application/vnd.jupyter.widget-view+json": {
       "model_id": "858c7cace5de4a8b871e2090ad6692b2",
       "version_major": 2,
       "version_minor": 0
      },
      "text/plain": [
       "  0%|          | 0/100 [00:00<?, ?it/s]"
      ]
     },
     "metadata": {},
     "output_type": "display_data"
    },
    {
     "name": "stdout",
     "output_type": "stream",
     "text": [
      "sample: torch.Size([80, 148, 4])\n",
      "Generation batch 8: showers per batch: 10, max. hits per shower: 148, features per hit: 4, sampled_energies: 10\n",
      "\r",
      "Progress: 9/10"
     ]
    },
    {
     "data": {
      "application/vnd.jupyter.widget-view+json": {
       "model_id": "414418fa239945898f1f7ca17006c70c",
       "version_major": 2,
       "version_minor": 0
      },
      "text/plain": [
       "  0%|          | 0/100 [00:00<?, ?it/s]"
      ]
     },
     "metadata": {},
     "output_type": "display_data"
    },
    {
     "name": "stdout",
     "output_type": "stream",
     "text": [
      "sample: torch.Size([90, 148, 4])\n",
      "Generation batch 9: showers per batch: 10, max. hits per shower: 148, features per hit: 4, sampled_energies: 10\n",
      "\r",
      "Progress: 10/10"
     ]
    },
    {
     "data": {
      "application/vnd.jupyter.widget-view+json": {
       "model_id": "5e7c1c83d82049658741f7afda9d02c3",
       "version_major": 2,
       "version_minor": 0
      },
      "text/plain": [
       "  0%|          | 0/100 [00:00<?, ?it/s]"
      ]
     },
     "metadata": {},
     "output_type": "display_data"
    },
    {
     "name": "stdout",
     "output_type": "stream",
     "text": [
      "sample: torch.Size([100, 148, 4])\n"
     ]
    },
    {
     "data": {
      "image/png": "[encoded data removed]",
      "text/plain": [
       "<Figure size 432x288 with 2 Axes>"
      ]
     },
     "metadata": {
      "needs_background": "light"
     },
     "output_type": "display_data"
    },
    {
     "data": {
      "image/png": "[encoded data removed]",
      "text/plain": [
       "<Figure size 432x288 with 2 Axes>"
      ]
     },
     "metadata": {
      "needs_background": "light"
     },
     "output_type": "display_data"
    }
   ],
   "source": [
    "from IPython import display\n",
    "from datetime import datetime\n",
    "import functools, torch, os, sys, random\n",
    "from datetime import datetime\n",
    "import numpy as np\n",
    "import matplotlib.pyplot as plt\n",
    "import tqdm\n",
    "workingdir = \"./\"\n",
    "\n",
    "# SAMPLE PARAMETERS\n",
    "n_sampler_calls = 100\n",
    "sampler_steps = 100\n",
    "\n",
    "output_directory = workingdir+'/sampling_'+str(sampler_steps)+'samplersteps_'+datetime.now().strftime('%Y%m%d_%H%M')+'_output/'\n",
    "if not os.path.exists(output_directory):\n",
    "    os.makedirs(output_directory)\n",
    "\n",
    "# Load saved model\n",
    "model.load_state_dict(torch.load('training_20230707_1714_output/ckpt_tmp_4.pth', map_location=device))\n",
    "model.to(device)\n",
    "\n",
    "# Get max. N hits / N valid hits in batch\n",
    "n_valid_hits_per_shower = []\n",
    "incident_e_per_shower = []\n",
    "max_hits = -1\n",
    "print(f'Max hits taken from {files_list_}')\n",
    "for file in files_list_:\n",
    "    # Load shower data\n",
    "    custom_data = utils.cloud_dataset(file, device=device)\n",
    "    point_clouds_loader = DataLoader(custom_data, batch_size=batch_size, shuffle=False)\n",
    "    # Loop over batches\n",
    "    for i, (shower_data, incident_energies) in enumerate(point_clouds_loader,0):\n",
    "\n",
    "        # Copy data\n",
    "        valid_event = []\n",
    "        data_np = shower_data.cpu().numpy().copy()\n",
    "        energy_np = incident_energies.cpu().numpy().copy()\n",
    "\n",
    "        # Mask for padded values\n",
    "        masking = data_np[:,:,0] != -20\n",
    "        # Loop over each shower in batch\n",
    "        for j in range(len(data_np)):\n",
    "            # Mask padded hits and count valid hits for shower j in batch\n",
    "            valid_hits = data_np[j][masking[j]]\n",
    "            n_valid_hits_per_shower.append(len(valid_hits))\n",
    "            if len(valid_hits)>max_hits:\n",
    "                max_hits = len(valid_hits)\n",
    "            incident_e_per_shower.append(energy_np[j])\n",
    "    del custom_data\n",
    "\n",
    "# Arrays of Nvalid hits in showers, incident energies per shower\n",
    "n_valid_hits_per_shower = np.array(n_valid_hits_per_shower)\n",
    "incident_e_per_shower = np.array(incident_e_per_shower)\n",
    "\n",
    "# Generate 2D pdf of incident E vs N valid hits from the training file(s)\n",
    "n_bins_prob_dist = 10\n",
    "e_vs_nhits_prob, x_bin, y_bin = trans_tdsm.get_prob_dist(incident_e_per_shower, n_valid_hits_per_shower, n_bins_prob_dist)\n",
    "\n",
    "fig0, (ax0) = plt.subplots(ncols=1, sharey=True)\n",
    "dh0 = display.display(fig0, display_id=True)\n",
    "\n",
    "heatmap = ax0.pcolormesh(y_bin, x_bin, e_vs_nhits_prob, cmap='rainbow')\n",
    "ax0.plot(n_valid_hits_per_shower, n_valid_hits_per_shower, 'k-')\n",
    "ax0.set_xlim(n_valid_hits_per_shower.min(), n_valid_hits_per_shower.max())\n",
    "ax0.set_ylim(incident_e_per_shower.min(), incident_e_per_shower.max())\n",
    "ax0.set_xlabel('n_valid_hits_per_shower')\n",
    "ax0.set_ylabel('incident_e_per_shower')\n",
    "cbar = plt.colorbar(heatmap)\n",
    "cbar.ax.set_ylabel('PDF', rotation=270)\n",
    "ax0.set_title('histogram2d')\n",
    "ax0.grid()\n",
    "\n",
    "dh0.update(fig0)\n",
    "\n",
    "# Tensor of random incident energies\n",
    "n_showers_2_gen =  100\n",
    "in_energies = torch.rand(n_showers_2_gen)*30 # can alter multiplicative factor to vary the appropriate range of injection energies\n",
    "\n",
    "# Sample from 2D pdf -> nhits per shower vs incident energies\n",
    "nhits, gen_hits = trans_tdsm.generate_hits(e_vs_nhits_prob, x_bin, y_bin, in_energies, max_hits, 4, device=device)\n",
    "# Save random\n",
    "torch.save([gen_hits, in_energies],'tmp.pt')\n",
    "gen_hits = utils.cloud_dataset('tmp.pt', device=device)\n",
    "gen_hits.padding(padding_value)\n",
    "os.system(\"rm tmp.pt\")\n",
    "sample = []\n",
    "batch_size=10\n",
    "gen_hits_loader = DataLoader(gen_hits, batch_size=batch_size, shuffle=False)\n",
    "\n",
    "fig1, (ax2,ax3) = plt.subplots(nrows=1,ncols=2,)\n",
    "dh = display.display(fig1, display_id=True)\n",
    "ax2.set_title('nhits per shower in batch')\n",
    "ax3.set_title('sampled incident energies')\n",
    "# Loop over each batch\n",
    "for i, (gen_hit, sampled_energies) in enumerate(gen_hits_loader,0):\n",
    "    print(f'Generation batch {i}: showers per batch: {gen_hit.shape[0]}, max. hits per shower: {gen_hit.shape[1]}, features per hit: {gen_hit.shape[2]}, sampled_energies: {len(sampled_energies)}')    \n",
    "    sys.stdout.write('\\r')\n",
    "    sys.stdout.write(\"Progress: %d/%d\" % ((i+1), len(gen_hits_loader)))\n",
    "    sys.stdout.flush()\n",
    "    \n",
    "    if jupyternotebook == True:\n",
    "        valid_hits = []\n",
    "        sampled_energies_ = []\n",
    "        # Loop over showers in batch\n",
    "        for shower_idx in range(0,gen_hit.shape[0]):\n",
    "            valid_hits_ = (gen_hit[shower_idx]!=-20).sum() / 4\n",
    "            valid_hits.append( valid_hits_.item() )\n",
    "            sampled_energies_.append(sampled_energies[shower_idx].item())\n",
    "        \n",
    "        ax2.hist(valid_hits, label='nhits')\n",
    "        ax3.hist(sampled_energies_, label='GeV')\n",
    "        dh.update(fig1)\n",
    "    \n",
    "    # Generate a sample\n",
    "    generative = trans_tdsm.pc_sampler(model, marginal_prob_std_fn, diffusion_coeff_fn, sampled_energies, gen_hit, batch_size=gen_hit.shape[0], snr=0.16, sampler_steps=sampler_steps, device=device, jupyternotebook=True)\n",
    "    \n",
    "    if i == 0:\n",
    "        sample = generative\n",
    "    else:\n",
    "        sample = torch.cat([sample,generative])\n",
    "    \n",
    "    print(f'sample: {sample.shape}')\n",
    "        \n",
    "sample_ = []\n",
    "sample_np = sample.cpu().numpy()\n",
    "\n",
    "for i in range(len(sample_np)):\n",
    "    tmp_sample = sample_np[i][:nhits[i]]\n",
    "    sample_.append(torch.tensor(tmp_sample))\n",
    "torch.save([sample_,in_energies], os.path.join(output_directory, 'sample.pt'))\n"
   ]
  },
  {
   "cell_type": "markdown",
   "id": "717a064f",
   "metadata": {},
   "source": [
    "## Draw Generative Distribution"
   ]
  },
  {
   "cell_type": "code",
   "execution_count": 3,
   "id": "30b64eba",
   "metadata": {
    "scrolled": true
   },
   "outputs": [
    {
     "name": "stdout",
     "output_type": "stream",
     "text": [
      "Plot # entries\n",
      "Plot incident energies\n",
      "Plot hit energies\n",
      "Plot hit x\n",
      "Plot hit y\n",
      "Plot hit z\n"
     ]
    },
    {
     "data": {
      "image/png": "[encoded data removed]",
      "text/plain": [
       "<Figure size 864x864 with 6 Axes>"
      ]
     },
     "metadata": {
      "needs_background": "light"
     },
     "output_type": "display_data"
    }
   ],
   "source": [
    "output_directory = 'sampling_100samplersteps_20230707_1717_output'\n",
    "plot_file_name = os.path.join(output_directory, 'sample.pt')\n",
    "\n",
    "custom_data = utils.cloud_dataset(plot_file_name,device=device)\n",
    "#custom_data.padding()\n",
    "fig = util.display.plot_distribution(custom_data, label=\"Geant4\")\n",
    "fig.show()\n",
    "\n",
    "\n",
    "#fig = util.display.plot_distribution([plot_file_name], label=\"Geant4\")\n",
    "#fig.show()\n"
   ]
  },
  {
   "cell_type": "code",
   "execution_count": null,
   "id": "35ea78a9",
   "metadata": {},
   "outputs": [],
   "source": []
  }
 ],
 "metadata": {
  "kernelspec": {
   "display_name": "Python 3",
   "language": "python",
   "name": "python3"
  },
  "language_info": {
   "codemirror_mode": {
    "name": "ipython",
    "version": 3
   },
   "file_extension": ".py",
   "mimetype": "text/x-python",
   "name": "python",
   "nbconvert_exporter": "python",
   "pygments_lexer": "ipython3",
   "version": "3.9.12"
  }
 },
 "nbformat": 4,
 "nbformat_minor": 5
}
