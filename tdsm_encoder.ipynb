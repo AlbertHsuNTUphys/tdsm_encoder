{
 "cells": [
  {
   "cell_type": "markdown",
   "id": "b42a868f",
   "metadata": {},
   "source": [
    "# tdsm encoder\n",
    "Here we provide interactive scripts, with which one can study input features, hyperparameters and finally perform the training & sampling of generative model. All of these scripts use classes and functions used in the code that runs on condor in order to obtain the optimised model trained on the full dataset. We advise not to train the model on the full dataset here as it will take too long. We advise to limit the training dataset size and number of epochs and use this notebook to study pre-processing, hyperparameters and diffusion techniques."
   ]
  },
  {
   "cell_type": "markdown",
   "id": "9665c976",
   "metadata": {},
   "source": [
    "## import model"
   ]
  },
  {
   "cell_type": "code",
   "execution_count": 1,
   "id": "4f48dd31",
   "metadata": {
    "scrolled": true
   },
   "outputs": [
    {
     "name": "stdout",
     "output_type": "stream",
     "text": [
      "torch version:  1.11.0a0+gitbc2c6ed\n",
      "Running on device:  cuda\n",
      "Cuda used to build pyTorch:  11.2\n",
      "Current device:  0\n",
      "Cuda arch list:  ['sm_37', 'sm_50', 'sm_60', 'sm_61', 'sm_70', 'sm_75', 'compute_37']\n",
      "Working directory:  ./\n",
      "['/eos/user/j/jthomasw/tdsm_encoder/datasets/power_transformer/dataset_1_photons_padded_nentry121To150.pt', '/eos/user/j/jthomasw/tdsm_encoder/datasets/power_transformer/dataset_1_photons_padded_nentry211To240.pt', '/eos/user/j/jthomasw/tdsm_encoder/datasets/power_transformer/dataset_1_photons_padded_nentry301To330.pt']\n",
      "+--------------------------------+-------------------+\n",
      "|          Module name           | Parameters listed |\n",
      "+--------------------------------+-------------------+\n",
      "|           cls_token            |        512        |\n",
      "|          embed.weight          |        2048       |\n",
      "|           embed.bias           |        512        |\n",
      "|        embed_t.1.weight        |       262144      |\n",
      "|         embed_t.1.bias         |        512        |\n",
      "|      dense1.dense.weight       |        512        |\n",
      "|       dense1.dense.bias        |         1         |\n",
      "| encoder.0.attn.in_proj_weight  |       786432      |\n",
      "|  encoder.0.attn.in_proj_bias   |        1536       |\n",
      "| encoder.0.attn.out_proj.weight |       262144      |\n",
      "|  encoder.0.attn.out_proj.bias  |        512        |\n",
      "|    encoder.0.ffnn.0.weight     |       65536       |\n",
      "|     encoder.0.ffnn.0.bias      |        128        |\n",
      "|    encoder.0.ffnn.3.weight     |       65536       |\n",
      "|     encoder.0.ffnn.3.bias      |        512        |\n",
      "|     encoder.0.norm1.weight     |        512        |\n",
      "|      encoder.0.norm1.bias      |        512        |\n",
      "|     encoder.0.norm2.weight     |        512        |\n",
      "|      encoder.0.norm2.bias      |        512        |\n",
      "| encoder.1.attn.in_proj_weight  |       786432      |\n",
      "|  encoder.1.attn.in_proj_bias   |        1536       |\n",
      "| encoder.1.attn.out_proj.weight |       262144      |\n",
      "|  encoder.1.attn.out_proj.bias  |        512        |\n",
      "|    encoder.1.ffnn.0.weight     |       65536       |\n",
      "|     encoder.1.ffnn.0.bias      |        128        |\n",
      "|    encoder.1.ffnn.3.weight     |       65536       |\n",
      "|     encoder.1.ffnn.3.bias      |        512        |\n",
      "|     encoder.1.norm1.weight     |        512        |\n",
      "|      encoder.1.norm1.bias      |        512        |\n",
      "|     encoder.1.norm2.weight     |        512        |\n",
      "|      encoder.1.norm2.bias      |        512        |\n",
      "| encoder.2.attn.in_proj_weight  |       786432      |\n",
      "|  encoder.2.attn.in_proj_bias   |        1536       |\n",
      "| encoder.2.attn.out_proj.weight |       262144      |\n",
      "|  encoder.2.attn.out_proj.bias  |        512        |\n",
      "|    encoder.2.ffnn.0.weight     |       65536       |\n",
      "|     encoder.2.ffnn.0.bias      |        128        |\n",
      "|    encoder.2.ffnn.3.weight     |       65536       |\n",
      "|     encoder.2.ffnn.3.bias      |        512        |\n",
      "|     encoder.2.norm1.weight     |        512        |\n",
      "|      encoder.2.norm1.bias      |        512        |\n",
      "|     encoder.2.norm2.weight     |        512        |\n",
      "|      encoder.2.norm2.bias      |        512        |\n",
      "|           out.weight           |        2048       |\n",
      "|            out.bias            |         4         |\n",
      "+--------------------------------+-------------------+\n",
      "Sum of trainable parameters: 3821445\n"
     ]
    }
   ],
   "source": [
    "import time, functools, torch, os,sys, random, fnmatch, psutil\n",
    "from datetime import datetime\n",
    "import numpy as np\n",
    "import matplotlib.pyplot as plt\n",
    "import torch.nn as nn\n",
    "import torch.nn.functional as F\n",
    "from torch.optim import Adam,RAdam\n",
    "import torchvision.transforms as transforms\n",
    "from torch.utils.data import Dataset, DataLoader\n",
    "import trans_tdsm, utils\n",
    "from prettytable import PrettyTable\n",
    "import util.dataset_structure, util.display, util.model\n",
    "import tqdm\n",
    "from IPython import display\n",
    "\n",
    "device = 'cuda' if torch.cuda.is_available() else 'cpu'\n",
    "padding_value = -20\n",
    "\n",
    "dataset = \"dataset_1_photons_padded_nentry\"\n",
    "dataset_store_path = \"/eos/user/j/jthomasw/tdsm_encoder/datasets/power_transformer/\"\n",
    "transform = None\n",
    "transform_y = None\n",
    "mask = True\n",
    "jupyternotebook = True\n",
    "\n",
    "workingdir = \"./\"\n",
    "### HYPERPARAMETERS ###\n",
    "train_ratio = 0.8\n",
    "batch_size = 64\n",
    "lr = 0.00001\n",
    "n_epochs = 50\n",
    "### SDE PARAMETERS ###\n",
    "SDE = 'VE'\n",
    "sigma_max = 10.\n",
    "### MODEL PARAMETERS ###\n",
    "n_feat_dim = 4\n",
    "embed_dim = 512\n",
    "hidden_dim = 128\n",
    "num_encoder_blocks = 3\n",
    "num_attn_heads = 8\n",
    "dropout_gen = 0\n",
    "\n",
    "# Instantiate stochastic differential equation\n",
    "if SDE == 'VP':\n",
    "    sde = utils.VPSDE(beta_max=sigma_max,device=device)\n",
    "if SDE == 'VE':\n",
    "    sde = utils.VESDE(sigma_max=sigma_max,device=device)\n",
    "marginal_prob_std_fn = functools.partial(sde.marginal_prob)\n",
    "diffusion_coeff_fn = functools.partial(sde.sde)\n",
    "\n",
    "print('torch version: ', torch.__version__)\n",
    "print('Running on device: ', device)\n",
    "if torch.cuda.is_available():\n",
    "    print('Cuda used to build pyTorch: ',torch.version.cuda)\n",
    "    print('Current device: ', torch.cuda.current_device())\n",
    "    print('Cuda arch list: ', torch.cuda.get_arch_list())\n",
    "\n",
    "print('Working directory: ', workingdir)\n",
    "\n",
    "files_list_ = []\n",
    "for filename in os.listdir(dataset_store_path):\n",
    "    if fnmatch.fnmatch(filename, dataset + '12*.pt') or fnmatch.fnmatch(filename, dataset + '21*.pt') or fnmatch.fnmatch(filename, dataset + '30*.pt'):\n",
    "    #if fnmatch.fnmatch(filename, dataset + '30*.pt'):\n",
    "        files_list_.append(os.path.join(dataset_store_path, filename))\n",
    "print(files_list_)\n",
    "\n",
    "model=trans_tdsm.Gen(n_feat_dim, embed_dim, hidden_dim, num_encoder_blocks, num_attn_heads, dropout_gen, marginal_prob_std=marginal_prob_std_fn)\n",
    "\n",
    "table = PrettyTable(['Module name', 'Parameters listed'])\n",
    "t_params = 0\n",
    "for name_ , para_ in model.named_parameters():\n",
    "    if not para_.requires_grad: continue\n",
    "    param = para_.numel()\n",
    "    table.add_row([name_, param])\n",
    "    t_params+=param\n",
    "print(table)\n",
    "print(f'Sum of trainable parameters: {t_params}')    "
   ]
  },
  {
   "cell_type": "markdown",
   "id": "681173e7",
   "metadata": {},
   "source": [
    "## Plot data distribution\n",
    "\n",
    "We display distributions of either the transformed or non-transformed input features, however the training is always performed using the transformed inputs where available. The `energy_trans_file` argument should be the pickle file containing fitted input transformation function. Only provide a file name if you want to plot distributions where the transformation has been inverted and applied to inputs to transform back to the original distributions. In such cases, if you want to check the inverted transformation is doing the correct inversion, compare for a single file against the plots inside the directory:\n",
    "\n",
    "`\n",
    "datasets/<transformation>/featureplots_dataset\n",
    "`\n",
    "\n",
    "Plots of the inverted transformation should be similar to what is shown in those, though not identical as we only plot a subset of the showers."
   ]
  },
  {
   "cell_type": "code",
   "execution_count": 4,
   "id": "0b7a9ecc",
   "metadata": {
    "scrolled": false
   },
   "outputs": [
    {
     "name": "stdout",
     "output_type": "stream",
     "text": [
      "plot_distribution running on input type 'files'\n",
      "n_files <class 'int'>: 3\n",
      "nshowers_2_plot <class 'int'>: 1000\n",
      "File: /eos/user/j/jthomasw/tdsm_encoder/datasets/power_transformer/dataset_1_photons_padded_nentry121To150.pt\n",
      "# batches: 14635\n",
      "File: /eos/user/j/jthomasw/tdsm_encoder/datasets/power_transformer/dataset_1_photons_padded_nentry211To240.pt\n",
      "# batches: 8917\n",
      "File: /eos/user/j/jthomasw/tdsm_encoder/datasets/power_transformer/dataset_1_photons_padded_nentry301To330.pt\n",
      "# batches: 28518\n",
      "Plot # entries\n",
      "Plot incident energies\n",
      "Plot total deposited hit energy\n",
      "Plot hit x\n",
      "Plot hit energies\n",
      "Plot hit y\n",
      "Plot hit z\n"
     ]
    },
    {
     "data": {
      "image/png": "[encoded data removed]",
      "text/plain": [
       "<Figure size 864x864 with 9 Axes>"
      ]
     },
     "metadata": {
      "needs_background": "light"
     },
     "output_type": "display_data"
    }
   ],
   "source": [
    "#dists = util.display.plot_distribution(files_list_,energy_trans_file='transform_e.pkl')\n",
    "dists = util.display.plot_distribution(files_list_)\n",
    "\n",
    "entries = dists[0]\n",
    "all_incident_e = dists[1]\n",
    "total_deposited_e_shower = dists[2]\n",
    "all_e = dists[3]\n",
    "all_x = dists[4]\n",
    "all_y = dists[5]\n",
    "all_z = dists[6]\n",
    "\n",
    "fig, ax = plt.subplots(3,3, figsize=(12,12))\n",
    "print('Plot # entries')\n",
    "ax[0][0].set_ylabel('# entries')\n",
    "ax[0][0].set_xlabel('Hit entries')\n",
    "ax[0][0].hist(entries, 50, label='Geant4')\n",
    "ax[0][0].legend(loc='upper right')\n",
    "\n",
    "print('Plot incident energies')\n",
    "ax[1][2].set_ylabel('# entries')\n",
    "ax[1][2].set_xlabel('Incident energies [GeV]')\n",
    "ax[1][2].hist(all_incident_e, 50, label='Geant4')\n",
    "ax[1][2].set_yscale('log')\n",
    "ax[1][2].legend(loc='upper right')\n",
    "\n",
    "print('Plot total deposited hit energy')\n",
    "ax[2][0].set_ylabel('# entries')\n",
    "ax[2][0].set_xlabel('Deposited energy [GeV]')\n",
    "ax[2][0].hist(total_deposited_e_shower, 50, label='Geant4')\n",
    "ax[2][0].set_yscale('log')\n",
    "ax[2][0].legend(loc='upper right')\n",
    "\n",
    "print('Plot hit x')\n",
    "ax[0][2].set_ylabel('# entries')\n",
    "ax[0][2].set_xlabel('Hit x position')\n",
    "ax[0][2].hist(all_x, 50, label='Geant4')\n",
    "ax[0][2].set_yscale('log')\n",
    "ax[0][2].legend(loc='upper right')\n",
    "\n",
    "print('Plot hit energies')\n",
    "ax[0][1].set_ylabel('# entries')\n",
    "ax[0][1].set_xlabel('Hit energy [GeV]')\n",
    "ax[0][1].hist(all_e, 50, label='Geant4')\n",
    "ax[0][1].set_yscale('log')\n",
    "ax[0][1].legend(loc='upper right')\n",
    "\n",
    "print('Plot hit y')\n",
    "ax[1][0].set_ylabel('# entries')\n",
    "ax[1][0].set_xlabel('Hit y position')\n",
    "ax[1][0].hist(all_y, 50, label='Geant4')\n",
    "ax[1][0].set_yscale('log')\n",
    "ax[1][0].legend(loc='upper right')\n",
    "\n",
    "print('Plot hit z')\n",
    "ax[1][1].set_ylabel('# entries')\n",
    "ax[1][1].set_xlabel('Hit z position')\n",
    "ax[1][1].hist(all_z, label='Geant4')\n",
    "ax[1][1].set_yscale('log')\n",
    "ax[1][1].legend(loc='upper right')\n",
    "\n",
    "fig.show()\n",
    "save_name = os.path.join(dataset_store_path,'input_dists_transformed.png')\n",
    "fig.savefig(save_name)"
   ]
  },
  {
   "cell_type": "markdown",
   "id": "25ad8532",
   "metadata": {},
   "source": [
    "## Training\n",
    "\n",
    "Training is performed now on the transformed input features, therefore the generated samples will also be in the transformed feature space"
   ]
  },
  {
   "cell_type": "code",
   "execution_count": 2,
   "id": "a7dd95fa",
   "metadata": {
    "scrolled": false
   },
   "outputs": [
    {
     "data": {
      "application/vnd.jupyter.widget-view+json": {
       "model_id": "005e354ff0ef4c989454ad30b4f3208c",
       "version_major": 2,
       "version_minor": 0
      },
      "text/plain": [
       "  0%|          | 0/50 [00:00<?, ?it/s]"
      ]
     },
     "metadata": {},
     "output_type": "display_data"
    },
    {
     "data": {
      "image/png": "[encoded data removed]",
      "text/plain": [
       "<Figure size 288x288 with 1 Axes>"
      ]
     },
     "metadata": {},
     "output_type": "display_data"
    },
    {
     "name": "stdout",
     "output_type": "stream",
     "text": [
      "['/eos/user/j/jthomasw/tdsm_encoder/datasets/power_transformer/dataset_1_photons_padded_nentry121To150.pt', '/eos/user/j/jthomasw/tdsm_encoder/datasets/power_transformer/dataset_1_photons_padded_nentry211To240.pt', '/eos/user/j/jthomasw/tdsm_encoder/datasets/power_transformer/dataset_1_photons_padded_nentry301To330.pt']\n"
     ]
    },
    {
     "data": {
      "image/png": "[encoded data removed]",
      "text/plain": [
       "<Figure size 288x288 with 1 Axes>"
      ]
     },
     "metadata": {
      "needs_background": "light"
     },
     "output_type": "display_data"
    }
   ],
   "source": [
    "output_directory = workingdir+'/training_'+datetime.now().strftime('%Y%m%d_%H%M')+'_output/'\n",
    "if not os.path.exists(output_directory):\n",
    "            os.makedirs(output_directory)\n",
    "optimiser = RAdam(model.parameters(),lr=lr)\n",
    "av_training_losses_per_epoch = []\n",
    "av_testing_losses_per_epoch = []\n",
    "\n",
    "fig, ax = plt.subplots(ncols=1, figsize=(4,4))\n",
    "epochs = tqdm.notebook.trange(n_epochs)\n",
    "dh = display.display(fig, display_id=True)\n",
    "\n",
    "print(files_list_)\n",
    "\n",
    "for epoch in epochs:\n",
    "\n",
    "    # Create/clear per epoch variables\n",
    "    cumulative_epoch_loss = 0.\n",
    "    cumulative_test_epoch_loss = 0.\n",
    "\n",
    "    file_counter = 0\n",
    "    n_training_showers = 0\n",
    "    n_testing_showers = 0\n",
    "    training_batches_per_epoch = 0\n",
    "    testing_batches_per_epoch = 0\n",
    "\n",
    "    # Load files\n",
    "    for filename in files_list_:\n",
    "        custom_data = utils.cloud_dataset(filename, device=device)\n",
    "        train_size = int(train_ratio * len(custom_data.data))\n",
    "        test_size = len(custom_data.data) - train_size\n",
    "        train_dataset, test_dataset = torch.utils.data.random_split(custom_data, [train_size, test_size])\n",
    "\n",
    "        n_training_showers+=train_size\n",
    "        n_testing_showers+=test_size\n",
    "        # Load clouds for each epoch of data dataloaders length will be the number of batches\n",
    "        shower_loader_train = DataLoader(train_dataset, batch_size=batch_size, shuffle=True)\n",
    "        shower_loader_test = DataLoader(test_dataset, batch_size=batch_size, shuffle=True)\n",
    "        \n",
    "        # Accumuate number of batches per epoch\n",
    "        training_batches_per_epoch += len(shower_loader_train)\n",
    "        testing_batches_per_epoch += len(shower_loader_test)\n",
    "        \n",
    "        # Load shower batch for training\n",
    "        for i, (shower_data,incident_energies) in enumerate(shower_loader_train,0):\n",
    "            # Move model to device and set dtype as same as data (note torch.double works on both CPU and GPU)\n",
    "            model.to(device, shower_data.dtype)\n",
    "            model.train()\n",
    "            shower_data = shower_data.to(device)\n",
    "            incident_energies = incident_energies.to(device)\n",
    "            \n",
    "            if len(shower_data) < 1:\n",
    "                print('Very few hits in shower: ', len(shower_data))\n",
    "                continue\n",
    "            # Zero any gradients from previous steps\n",
    "            optimiser.zero_grad()\n",
    "            # Loss average for each batch\n",
    "            loss = trans_tdsm.loss_fn(model, shower_data, incident_energies, marginal_prob_std_fn, device=device)\n",
    "            # Accumulate batch loss per epoch\n",
    "            cumulative_epoch_loss+=float(loss)\n",
    "            # collect dL/dx for any parameters (x) which have requires_grad = True via: x.grad += dL/dx\n",
    "            #loss.backward(retain_graph=True)\n",
    "            loss.backward()\n",
    "            # Update value of x += -lr * x.grad\n",
    "            optimiser.step()\n",
    "            \n",
    "        # Testing on subset of file\n",
    "        for i, (shower_data,incident_energies) in enumerate(shower_loader_test,0):\n",
    "            with torch.no_grad():\n",
    "                model.eval()\n",
    "                shower_data = shower_data.to(device)\n",
    "                incident_energies = incident_energies.to(device)\n",
    "                test_loss = trans_tdsm.loss_fn(model, shower_data, incident_energies, marginal_prob_std_fn, device=device)\n",
    "                cumulative_test_epoch_loss+=float(test_loss)\n",
    "    \n",
    "    # Calculate average loss per epoch\n",
    "    av_training_losses_per_epoch.append(cumulative_epoch_loss/training_batches_per_epoch)\n",
    "    av_testing_losses_per_epoch.append(cumulative_test_epoch_loss/testing_batches_per_epoch)\n",
    "    epochs.set_description('Average Loss: {:5f}(Train) {:5f}(Test)'.format(cumulative_epoch_loss/training_batches_per_epoch, cumulative_test_epoch_loss/testing_batches_per_epoch))\n",
    "    fig, ax = plt.subplots(ncols=1, figsize=(4,4))\n",
    "    plt.title('')\n",
    "    plt.ylabel('Loss')\n",
    "    plt.xlabel('Epoch')\n",
    "    plt.yscale('log')\n",
    "    plt.plot(av_training_losses_per_epoch, label='training')\n",
    "    plt.plot(av_testing_losses_per_epoch, label='testing')\n",
    "    plt.legend(loc='upper right')\n",
    "    dh.update(fig)\n",
    "    if epoch == n_epochs:\n",
    "        fig.savefig(output_directory+'loss_v_epoch.png')\n",
    "    plt.close(fig)\n",
    "\n",
    "torch.save(model.state_dict(), output_directory+'ckpt_tmp_'+str(epoch)+'.pth')\n"
   ]
  },
  {
   "cell_type": "markdown",
   "id": "28c5a04c",
   "metadata": {},
   "source": [
    "## Sampling "
   ]
  },
  {
   "cell_type": "code",
   "execution_count": 3,
   "id": "26d03caa",
   "metadata": {
    "scrolled": true
   },
   "outputs": [
    {
     "name": "stdout",
     "output_type": "stream",
     "text": [
      "batch_size: 64\n",
      "Files: ['/eos/user/j/jthomasw/tdsm_encoder/datasets/power_transformer/dataset_1_photons_padded_nentry121To150.pt', '/eos/user/j/jthomasw/tdsm_encoder/datasets/power_transformer/dataset_1_photons_padded_nentry211To240.pt', '/eos/user/j/jthomasw/tdsm_encoder/datasets/power_transformer/dataset_1_photons_padded_nentry301To330.pt']\n"
     ]
    },
    {
     "name": "stderr",
     "output_type": "stream",
     "text": [
      "/eos/home-i01/j/jthomasw/tdsm_encoder/trans_tdsm.py:430: RuntimeWarning:\n",
      "\n",
      "invalid value encountered in true_divide\n",
      "\n"
     ]
    },
    {
     "data": {
      "image/png": "[encoded data removed]",
      "text/plain": [
       "<Figure size 432x288 with 2 Axes>"
      ]
     },
     "metadata": {},
     "output_type": "display_data"
    },
    {
     "name": "stdout",
     "output_type": "stream",
     "text": [
      "# batches: 79\n",
      "Generation batch 0: showers per batch: 64, max. hits per shower: 310, features per hit: 4, sampled_energies: 64\n",
      "\r",
      "Progress: 1/79"
     ]
    },
    {
     "data": {
      "application/vnd.jupyter.widget-view+json": {
       "model_id": "e8b2e8ad110a488aa81a120f1b1459a0",
       "version_major": 2,
       "version_minor": 0
      },
      "text/plain": [
       "  0%|          | 0/100 [00:00<?, ?it/s]"
      ]
     },
     "metadata": {},
     "output_type": "display_data"
    },
    {
     "name": "stdout",
     "output_type": "stream",
     "text": [
      "sample: torch.Size([64, 310, 4])\n",
      "Generation batch 1: showers per batch: 64, max. hits per shower: 310, features per hit: 4, sampled_energies: 64\n",
      "\r",
      "Progress: 2/79"
     ]
    },
    {
     "data": {
      "application/vnd.jupyter.widget-view+json": {
       "model_id": "71c14cfe5b184d45922db6124c065c50",
       "version_major": 2,
       "version_minor": 0
      },
      "text/plain": [
       "  0%|          | 0/100 [00:00<?, ?it/s]"
      ]
     },
     "metadata": {},
     "output_type": "display_data"
    },
    {
     "name": "stdout",
     "output_type": "stream",
     "text": [
      "sample: torch.Size([128, 310, 4])\n",
      "Generation batch 2: showers per batch: 64, max. hits per shower: 310, features per hit: 4, sampled_energies: 64\n",
      "\r",
      "Progress: 3/79"
     ]
    },
    {
     "data": {
      "application/vnd.jupyter.widget-view+json": {
       "model_id": "480c35e2cb304ec0a74981bc37b87b48",
       "version_major": 2,
       "version_minor": 0
      },
      "text/plain": [
       "  0%|          | 0/100 [00:00<?, ?it/s]"
      ]
     },
     "metadata": {},
     "output_type": "display_data"
    },
    {
     "name": "stdout",
     "output_type": "stream",
     "text": [
      "sample: torch.Size([192, 310, 4])\n",
      "Generation batch 3: showers per batch: 64, max. hits per shower: 310, features per hit: 4, sampled_energies: 64\n",
      "\r",
      "Progress: 4/79"
     ]
    },
    {
     "data": {
      "application/vnd.jupyter.widget-view+json": {
       "model_id": "98022ab24162482f8f98757e561e7510",
       "version_major": 2,
       "version_minor": 0
      },
      "text/plain": [
       "  0%|          | 0/100 [00:00<?, ?it/s]"
      ]
     },
     "metadata": {},
     "output_type": "display_data"
    },
    {
     "name": "stdout",
     "output_type": "stream",
     "text": [
      "sample: torch.Size([256, 310, 4])\n",
      "Generation batch 4: showers per batch: 64, max. hits per shower: 310, features per hit: 4, sampled_energies: 64\n",
      "\r",
      "Progress: 5/79"
     ]
    },
    {
     "data": {
      "application/vnd.jupyter.widget-view+json": {
       "model_id": "1241708bcfac48eba7a35ed323d50ad2",
       "version_major": 2,
       "version_minor": 0
      },
      "text/plain": [
       "  0%|          | 0/100 [00:00<?, ?it/s]"
      ]
     },
     "metadata": {},
     "output_type": "display_data"
    },
    {
     "name": "stdout",
     "output_type": "stream",
     "text": [
      "sample: torch.Size([320, 310, 4])\n",
      "Generation batch 5: showers per batch: 64, max. hits per shower: 310, features per hit: 4, sampled_energies: 64\n",
      "\r",
      "Progress: 6/79"
     ]
    },
    {
     "data": {
      "application/vnd.jupyter.widget-view+json": {
       "model_id": "f8ce284c608f466dbd28b4592e70f3f2",
       "version_major": 2,
       "version_minor": 0
      },
      "text/plain": [
       "  0%|          | 0/100 [00:00<?, ?it/s]"
      ]
     },
     "metadata": {},
     "output_type": "display_data"
    },
    {
     "name": "stdout",
     "output_type": "stream",
     "text": [
      "sample: torch.Size([384, 310, 4])\n",
      "Generation batch 6: showers per batch: 64, max. hits per shower: 310, features per hit: 4, sampled_energies: 64\n",
      "\r",
      "Progress: 7/79"
     ]
    },
    {
     "data": {
      "application/vnd.jupyter.widget-view+json": {
       "model_id": "2f312b09796349738ef9af7385266c70",
       "version_major": 2,
       "version_minor": 0
      },
      "text/plain": [
       "  0%|          | 0/100 [00:00<?, ?it/s]"
      ]
     },
     "metadata": {},
     "output_type": "display_data"
    },
    {
     "name": "stdout",
     "output_type": "stream",
     "text": [
      "sample: torch.Size([448, 310, 4])\n",
      "Generation batch 7: showers per batch: 64, max. hits per shower: 310, features per hit: 4, sampled_energies: 64\n",
      "\r",
      "Progress: 8/79"
     ]
    },
    {
     "data": {
      "application/vnd.jupyter.widget-view+json": {
       "model_id": "74b88964b04940c0865d8df25ab8b0ae",
       "version_major": 2,
       "version_minor": 0
      },
      "text/plain": [
       "  0%|          | 0/100 [00:00<?, ?it/s]"
      ]
     },
     "metadata": {},
     "output_type": "display_data"
    },
    {
     "name": "stdout",
     "output_type": "stream",
     "text": [
      "sample: torch.Size([512, 310, 4])\n",
      "Generation batch 8: showers per batch: 64, max. hits per shower: 310, features per hit: 4, sampled_energies: 64\n",
      "\r",
      "Progress: 9/79"
     ]
    },
    {
     "data": {
      "application/vnd.jupyter.widget-view+json": {
       "model_id": "823709e909e94845a559f2652eb8d850",
       "version_major": 2,
       "version_minor": 0
      },
      "text/plain": [
       "  0%|          | 0/100 [00:00<?, ?it/s]"
      ]
     },
     "metadata": {},
     "output_type": "display_data"
    },
    {
     "name": "stdout",
     "output_type": "stream",
     "text": [
      "sample: torch.Size([576, 310, 4])\n",
      "Generation batch 9: showers per batch: 64, max. hits per shower: 310, features per hit: 4, sampled_energies: 64\n",
      "\r",
      "Progress: 10/79"
     ]
    },
    {
     "data": {
      "application/vnd.jupyter.widget-view+json": {
       "model_id": "eff98e656221409ca02aae06d4be7db8",
       "version_major": 2,
       "version_minor": 0
      },
      "text/plain": [
       "  0%|          | 0/100 [00:00<?, ?it/s]"
      ]
     },
     "metadata": {},
     "output_type": "display_data"
    },
    {
     "name": "stdout",
     "output_type": "stream",
     "text": [
      "sample: torch.Size([640, 310, 4])\n",
      "Generation batch 10: showers per batch: 64, max. hits per shower: 310, features per hit: 4, sampled_energies: 64\n",
      "\r",
      "Progress: 11/79"
     ]
    },
    {
     "data": {
      "application/vnd.jupyter.widget-view+json": {
       "model_id": "5dca58cbbc6940aebdc02add69a5ec49",
       "version_major": 2,
       "version_minor": 0
      },
      "text/plain": [
       "  0%|          | 0/100 [00:00<?, ?it/s]"
      ]
     },
     "metadata": {},
     "output_type": "display_data"
    },
    {
     "name": "stdout",
     "output_type": "stream",
     "text": [
      "sample: torch.Size([704, 310, 4])\n",
      "Generation batch 11: showers per batch: 64, max. hits per shower: 310, features per hit: 4, sampled_energies: 64\n",
      "\r",
      "Progress: 12/79"
     ]
    },
    {
     "data": {
      "application/vnd.jupyter.widget-view+json": {
       "model_id": "7718ed978ad04a678d6cc59caeb7e971",
       "version_major": 2,
       "version_minor": 0
      },
      "text/plain": [
       "  0%|          | 0/100 [00:00<?, ?it/s]"
      ]
     },
     "metadata": {},
     "output_type": "display_data"
    },
    {
     "name": "stdout",
     "output_type": "stream",
     "text": [
      "sample: torch.Size([768, 310, 4])\n",
      "Generation batch 12: showers per batch: 64, max. hits per shower: 310, features per hit: 4, sampled_energies: 64\n",
      "\r",
      "Progress: 13/79"
     ]
    },
    {
     "data": {
      "application/vnd.jupyter.widget-view+json": {
       "model_id": "93bb43789d294a6c8088c7a204483c52",
       "version_major": 2,
       "version_minor": 0
      },
      "text/plain": [
       "  0%|          | 0/100 [00:00<?, ?it/s]"
      ]
     },
     "metadata": {},
     "output_type": "display_data"
    },
    {
     "name": "stdout",
     "output_type": "stream",
     "text": [
      "sample: torch.Size([832, 310, 4])\n",
      "Generation batch 13: showers per batch: 64, max. hits per shower: 310, features per hit: 4, sampled_energies: 64\n",
      "\r",
      "Progress: 14/79"
     ]
    },
    {
     "data": {
      "application/vnd.jupyter.widget-view+json": {
       "model_id": "c7e5d67cda494ec799dcdb28e09c8c56",
       "version_major": 2,
       "version_minor": 0
      },
      "text/plain": [
       "  0%|          | 0/100 [00:00<?, ?it/s]"
      ]
     },
     "metadata": {},
     "output_type": "display_data"
    },
    {
     "name": "stdout",
     "output_type": "stream",
     "text": [
      "sample: torch.Size([896, 310, 4])\n",
      "Generation batch 14: showers per batch: 64, max. hits per shower: 310, features per hit: 4, sampled_energies: 64\n",
      "\r",
      "Progress: 15/79"
     ]
    },
    {
     "data": {
      "application/vnd.jupyter.widget-view+json": {
       "model_id": "fd1790f6f2904cfc8bfed1d19dcd8566",
       "version_major": 2,
       "version_minor": 0
      },
      "text/plain": [
       "  0%|          | 0/100 [00:00<?, ?it/s]"
      ]
     },
     "metadata": {},
     "output_type": "display_data"
    },
    {
     "name": "stdout",
     "output_type": "stream",
     "text": [
      "sample: torch.Size([960, 310, 4])\n",
      "Generation batch 15: showers per batch: 64, max. hits per shower: 310, features per hit: 4, sampled_energies: 64\n",
      "\r",
      "Progress: 16/79"
     ]
    },
    {
     "data": {
      "application/vnd.jupyter.widget-view+json": {
       "model_id": "acb8267e402248aeb660ba0db5d16868",
       "version_major": 2,
       "version_minor": 0
      },
      "text/plain": [
       "  0%|          | 0/100 [00:00<?, ?it/s]"
      ]
     },
     "metadata": {},
     "output_type": "display_data"
    },
    {
     "name": "stdout",
     "output_type": "stream",
     "text": [
      "sample: torch.Size([1024, 310, 4])\n",
      "Generation batch 16: showers per batch: 64, max. hits per shower: 310, features per hit: 4, sampled_energies: 64\n",
      "\r",
      "Progress: 17/79"
     ]
    },
    {
     "data": {
      "application/vnd.jupyter.widget-view+json": {
       "model_id": "cc5c7625f85e4f189b3d81f58dcf190a",
       "version_major": 2,
       "version_minor": 0
      },
      "text/plain": [
       "  0%|          | 0/100 [00:00<?, ?it/s]"
      ]
     },
     "metadata": {},
     "output_type": "display_data"
    },
    {
     "name": "stdout",
     "output_type": "stream",
     "text": [
      "sample: torch.Size([1088, 310, 4])\n",
      "Generation batch 17: showers per batch: 64, max. hits per shower: 310, features per hit: 4, sampled_energies: 64\n",
      "\r",
      "Progress: 18/79"
     ]
    },
    {
     "data": {
      "application/vnd.jupyter.widget-view+json": {
       "model_id": "5d2a00b2762c404baf12a66409437ba9",
       "version_major": 2,
       "version_minor": 0
      },
      "text/plain": [
       "  0%|          | 0/100 [00:00<?, ?it/s]"
      ]
     },
     "metadata": {},
     "output_type": "display_data"
    },
    {
     "name": "stdout",
     "output_type": "stream",
     "text": [
      "sample: torch.Size([1152, 310, 4])\n",
      "Generation batch 18: showers per batch: 64, max. hits per shower: 310, features per hit: 4, sampled_energies: 64\n",
      "\r",
      "Progress: 19/79"
     ]
    },
    {
     "data": {
      "application/vnd.jupyter.widget-view+json": {
       "model_id": "46c11b8467924e79ba8abe749e4749af",
       "version_major": 2,
       "version_minor": 0
      },
      "text/plain": [
       "  0%|          | 0/100 [00:00<?, ?it/s]"
      ]
     },
     "metadata": {},
     "output_type": "display_data"
    },
    {
     "name": "stdout",
     "output_type": "stream",
     "text": [
      "sample: torch.Size([1216, 310, 4])\n",
      "Generation batch 19: showers per batch: 64, max. hits per shower: 310, features per hit: 4, sampled_energies: 64\n",
      "\r",
      "Progress: 20/79"
     ]
    },
    {
     "data": {
      "application/vnd.jupyter.widget-view+json": {
       "model_id": "d071ed8e88d34642a95c81f837a785b0",
       "version_major": 2,
       "version_minor": 0
      },
      "text/plain": [
       "  0%|          | 0/100 [00:00<?, ?it/s]"
      ]
     },
     "metadata": {},
     "output_type": "display_data"
    },
    {
     "name": "stdout",
     "output_type": "stream",
     "text": [
      "sample: torch.Size([1280, 310, 4])\n",
      "Generation batch 20: showers per batch: 64, max. hits per shower: 310, features per hit: 4, sampled_energies: 64\n",
      "\r",
      "Progress: 21/79"
     ]
    },
    {
     "data": {
      "application/vnd.jupyter.widget-view+json": {
       "model_id": "4f3692baf97240e78d7eb0da8b663b3e",
       "version_major": 2,
       "version_minor": 0
      },
      "text/plain": [
       "  0%|          | 0/100 [00:00<?, ?it/s]"
      ]
     },
     "metadata": {},
     "output_type": "display_data"
    },
    {
     "name": "stdout",
     "output_type": "stream",
     "text": [
      "sample: torch.Size([1344, 310, 4])\n",
      "Generation batch 21: showers per batch: 64, max. hits per shower: 310, features per hit: 4, sampled_energies: 64\n",
      "\r",
      "Progress: 22/79"
     ]
    },
    {
     "data": {
      "application/vnd.jupyter.widget-view+json": {
       "model_id": "d12cd237c46d45f283fe5e646862b9bf",
       "version_major": 2,
       "version_minor": 0
      },
      "text/plain": [
       "  0%|          | 0/100 [00:00<?, ?it/s]"
      ]
     },
     "metadata": {},
     "output_type": "display_data"
    },
    {
     "name": "stdout",
     "output_type": "stream",
     "text": [
      "sample: torch.Size([1408, 310, 4])\n",
      "Generation batch 22: showers per batch: 64, max. hits per shower: 310, features per hit: 4, sampled_energies: 64\n",
      "\r",
      "Progress: 23/79"
     ]
    },
    {
     "data": {
      "application/vnd.jupyter.widget-view+json": {
       "model_id": "0409ac84c1a8462483c470d81c99b32d",
       "version_major": 2,
       "version_minor": 0
      },
      "text/plain": [
       "  0%|          | 0/100 [00:00<?, ?it/s]"
      ]
     },
     "metadata": {},
     "output_type": "display_data"
    },
    {
     "name": "stdout",
     "output_type": "stream",
     "text": [
      "sample: torch.Size([1472, 310, 4])\n",
      "Generation batch 23: showers per batch: 64, max. hits per shower: 310, features per hit: 4, sampled_energies: 64\n",
      "\r",
      "Progress: 24/79"
     ]
    },
    {
     "data": {
      "application/vnd.jupyter.widget-view+json": {
       "model_id": "baaf78bc879a49f09a05d149340eb08d",
       "version_major": 2,
       "version_minor": 0
      },
      "text/plain": [
       "  0%|          | 0/100 [00:00<?, ?it/s]"
      ]
     },
     "metadata": {},
     "output_type": "display_data"
    },
    {
     "name": "stdout",
     "output_type": "stream",
     "text": [
      "sample: torch.Size([1536, 310, 4])\n",
      "Generation batch 24: showers per batch: 64, max. hits per shower: 310, features per hit: 4, sampled_energies: 64\n",
      "\r",
      "Progress: 25/79"
     ]
    },
    {
     "data": {
      "application/vnd.jupyter.widget-view+json": {
       "model_id": "5cd6ecb79e704d5f82576dd8015591ba",
       "version_major": 2,
       "version_minor": 0
      },
      "text/plain": [
       "  0%|          | 0/100 [00:00<?, ?it/s]"
      ]
     },
     "metadata": {},
     "output_type": "display_data"
    },
    {
     "name": "stdout",
     "output_type": "stream",
     "text": [
      "sample: torch.Size([1600, 310, 4])\n",
      "Generation batch 25: showers per batch: 64, max. hits per shower: 310, features per hit: 4, sampled_energies: 64\n",
      "\r",
      "Progress: 26/79"
     ]
    },
    {
     "data": {
      "application/vnd.jupyter.widget-view+json": {
       "model_id": "06140ec8aea248c3890379ca71014b00",
       "version_major": 2,
       "version_minor": 0
      },
      "text/plain": [
       "  0%|          | 0/100 [00:00<?, ?it/s]"
      ]
     },
     "metadata": {},
     "output_type": "display_data"
    },
    {
     "name": "stdout",
     "output_type": "stream",
     "text": [
      "sample: torch.Size([1664, 310, 4])\n",
      "Generation batch 26: showers per batch: 64, max. hits per shower: 310, features per hit: 4, sampled_energies: 64\n",
      "\r",
      "Progress: 27/79"
     ]
    },
    {
     "data": {
      "application/vnd.jupyter.widget-view+json": {
       "model_id": "766cf3a02e0e48c1b810142959c51304",
       "version_major": 2,
       "version_minor": 0
      },
      "text/plain": [
       "  0%|          | 0/100 [00:00<?, ?it/s]"
      ]
     },
     "metadata": {},
     "output_type": "display_data"
    },
    {
     "name": "stdout",
     "output_type": "stream",
     "text": [
      "sample: torch.Size([1728, 310, 4])\n",
      "Generation batch 27: showers per batch: 64, max. hits per shower: 310, features per hit: 4, sampled_energies: 64\n",
      "\r",
      "Progress: 28/79"
     ]
    },
    {
     "data": {
      "application/vnd.jupyter.widget-view+json": {
       "model_id": "f1d0b6478ff34a7e8e1e0b7ad8e6b219",
       "version_major": 2,
       "version_minor": 0
      },
      "text/plain": [
       "  0%|          | 0/100 [00:00<?, ?it/s]"
      ]
     },
     "metadata": {},
     "output_type": "display_data"
    },
    {
     "name": "stdout",
     "output_type": "stream",
     "text": [
      "sample: torch.Size([2112, 310, 4])\n",
      "Generation batch 33: showers per batch: 64, max. hits per shower: 310, features per hit: 4, sampled_energies: 64\n",
      "\r",
      "Progress: 34/79"
     ]
    },
    {
     "data": {
      "application/vnd.jupyter.widget-view+json": {
       "model_id": "2d79b983a3bd442b97b6c958eb2d1dfc",
       "version_major": 2,
       "version_minor": 0
      },
      "text/plain": [
       "  0%|          | 0/100 [00:00<?, ?it/s]"
      ]
     },
     "metadata": {},
     "output_type": "display_data"
    },
    {
     "name": "stdout",
     "output_type": "stream",
     "text": [
      "sample: torch.Size([2176, 310, 4])\n",
      "Generation batch 34: showers per batch: 64, max. hits per shower: 310, features per hit: 4, sampled_energies: 64\n",
      "\r",
      "Progress: 35/79"
     ]
    },
    {
     "data": {
      "application/vnd.jupyter.widget-view+json": {
       "model_id": "19075e1d872c4b85879f8f7ab1b54dd2",
       "version_major": 2,
       "version_minor": 0
      },
      "text/plain": [
       "  0%|          | 0/100 [00:00<?, ?it/s]"
      ]
     },
     "metadata": {},
     "output_type": "display_data"
    },
    {
     "name": "stdout",
     "output_type": "stream",
     "text": [
      "sample: torch.Size([2240, 310, 4])\n",
      "Generation batch 35: showers per batch: 64, max. hits per shower: 310, features per hit: 4, sampled_energies: 64\n",
      "\r",
      "Progress: 36/79"
     ]
    },
    {
     "data": {
      "application/vnd.jupyter.widget-view+json": {
       "model_id": "f993d3686d604a33b4a539e110c7a6bc",
       "version_major": 2,
       "version_minor": 0
      },
      "text/plain": [
       "  0%|          | 0/100 [00:00<?, ?it/s]"
      ]
     },
     "metadata": {},
     "output_type": "display_data"
    },
    {
     "name": "stdout",
     "output_type": "stream",
     "text": [
      "sample: torch.Size([2304, 310, 4])\n",
      "Generation batch 36: showers per batch: 64, max. hits per shower: 310, features per hit: 4, sampled_energies: 64\n",
      "\r",
      "Progress: 37/79"
     ]
    },
    {
     "data": {
      "application/vnd.jupyter.widget-view+json": {
       "model_id": "02f16ce7caa742b0acff69dd1db608b3",
       "version_major": 2,
       "version_minor": 0
      },
      "text/plain": [
       "  0%|          | 0/100 [00:00<?, ?it/s]"
      ]
     },
     "metadata": {},
     "output_type": "display_data"
    },
    {
     "name": "stdout",
     "output_type": "stream",
     "text": [
      "sample: torch.Size([2368, 310, 4])\n",
      "Generation batch 37: showers per batch: 64, max. hits per shower: 310, features per hit: 4, sampled_energies: 64\n",
      "\r",
      "Progress: 38/79"
     ]
    },
    {
     "data": {
      "application/vnd.jupyter.widget-view+json": {
       "model_id": "8e387c00d711488babeec95b8603ff4c",
       "version_major": 2,
       "version_minor": 0
      },
      "text/plain": [
       "  0%|          | 0/100 [00:00<?, ?it/s]"
      ]
     },
     "metadata": {},
     "output_type": "display_data"
    },
    {
     "name": "stdout",
     "output_type": "stream",
     "text": [
      "sample: torch.Size([2432, 310, 4])\n",
      "Generation batch 38: showers per batch: 64, max. hits per shower: 310, features per hit: 4, sampled_energies: 64\n",
      "\r",
      "Progress: 39/79"
     ]
    },
    {
     "data": {
      "application/vnd.jupyter.widget-view+json": {
       "model_id": "2ea24865c97d4b8abc50fa0a2336b64d",
       "version_major": 2,
       "version_minor": 0
      },
      "text/plain": [
       "  0%|          | 0/100 [00:00<?, ?it/s]"
      ]
     },
     "metadata": {},
     "output_type": "display_data"
    },
    {
     "name": "stdout",
     "output_type": "stream",
     "text": [
      "sample: torch.Size([2496, 310, 4])\n",
      "Generation batch 39: showers per batch: 64, max. hits per shower: 310, features per hit: 4, sampled_energies: 64\n",
      "\r",
      "Progress: 40/79"
     ]
    },
    {
     "data": {
      "application/vnd.jupyter.widget-view+json": {
       "model_id": "4e6dd5b18dbc4f8bb7d09eb1d22f4f98",
       "version_major": 2,
       "version_minor": 0
      },
      "text/plain": [
       "  0%|          | 0/100 [00:00<?, ?it/s]"
      ]
     },
     "metadata": {},
     "output_type": "display_data"
    },
    {
     "name": "stdout",
     "output_type": "stream",
     "text": [
      "sample: torch.Size([2560, 310, 4])\n",
      "Generation batch 40: showers per batch: 64, max. hits per shower: 310, features per hit: 4, sampled_energies: 64\n",
      "\r",
      "Progress: 41/79"
     ]
    },
    {
     "data": {
      "application/vnd.jupyter.widget-view+json": {
       "model_id": "5c2a1c3698ec4706abeeffc4e5aa555b",
       "version_major": 2,
       "version_minor": 0
      },
      "text/plain": [
       "  0%|          | 0/100 [00:00<?, ?it/s]"
      ]
     },
     "metadata": {},
     "output_type": "display_data"
    },
    {
     "name": "stdout",
     "output_type": "stream",
     "text": [
      "sample: torch.Size([2624, 310, 4])\n",
      "Generation batch 41: showers per batch: 64, max. hits per shower: 310, features per hit: 4, sampled_energies: 64\n",
      "\r",
      "Progress: 42/79"
     ]
    },
    {
     "data": {
      "application/vnd.jupyter.widget-view+json": {
       "model_id": "b0cb77906b9a4ca78b04b669e30b44ae",
       "version_major": 2,
       "version_minor": 0
      },
      "text/plain": [
       "  0%|          | 0/100 [00:00<?, ?it/s]"
      ]
     },
     "metadata": {},
     "output_type": "display_data"
    },
    {
     "name": "stdout",
     "output_type": "stream",
     "text": [
      "sample: torch.Size([2688, 310, 4])\n",
      "Generation batch 42: showers per batch: 64, max. hits per shower: 310, features per hit: 4, sampled_energies: 64\n",
      "\r",
      "Progress: 43/79"
     ]
    },
    {
     "data": {
      "application/vnd.jupyter.widget-view+json": {
       "model_id": "557d1fb507274967b3d76896f0a64c5c",
       "version_major": 2,
       "version_minor": 0
      },
      "text/plain": [
       "  0%|          | 0/100 [00:00<?, ?it/s]"
      ]
     },
     "metadata": {},
     "output_type": "display_data"
    },
    {
     "name": "stdout",
     "output_type": "stream",
     "text": [
      "sample: torch.Size([2752, 310, 4])\n",
      "Generation batch 43: showers per batch: 64, max. hits per shower: 310, features per hit: 4, sampled_energies: 64\n",
      "\r",
      "Progress: 44/79"
     ]
    },
    {
     "data": {
      "application/vnd.jupyter.widget-view+json": {
       "model_id": "0c36b7c0c86844fdaedaba5a334198a3",
       "version_major": 2,
       "version_minor": 0
      },
      "text/plain": [
       "  0%|          | 0/100 [00:00<?, ?it/s]"
      ]
     },
     "metadata": {},
     "output_type": "display_data"
    },
    {
     "name": "stdout",
     "output_type": "stream",
     "text": [
      "sample: torch.Size([2816, 310, 4])\n",
      "Generation batch 44: showers per batch: 64, max. hits per shower: 310, features per hit: 4, sampled_energies: 64\n",
      "\r",
      "Progress: 45/79"
     ]
    },
    {
     "data": {
      "application/vnd.jupyter.widget-view+json": {
       "model_id": "33a104be754841f69f9a9cf3865caa75",
       "version_major": 2,
       "version_minor": 0
      },
      "text/plain": [
       "  0%|          | 0/100 [00:00<?, ?it/s]"
      ]
     },
     "metadata": {},
     "output_type": "display_data"
    },
    {
     "name": "stdout",
     "output_type": "stream",
     "text": [
      "sample: torch.Size([2880, 310, 4])\n",
      "Generation batch 45: showers per batch: 64, max. hits per shower: 310, features per hit: 4, sampled_energies: 64\n",
      "\r",
      "Progress: 46/79"
     ]
    },
    {
     "data": {
      "application/vnd.jupyter.widget-view+json": {
       "model_id": "76d4d1f35c5f40ddbb9c336fa8dac453",
       "version_major": 2,
       "version_minor": 0
      },
      "text/plain": [
       "  0%|          | 0/100 [00:00<?, ?it/s]"
      ]
     },
     "metadata": {},
     "output_type": "display_data"
    },
    {
     "name": "stdout",
     "output_type": "stream",
     "text": [
      "sample: torch.Size([2944, 310, 4])\n",
      "Generation batch 46: showers per batch: 64, max. hits per shower: 310, features per hit: 4, sampled_energies: 64\n",
      "\r",
      "Progress: 47/79"
     ]
    },
    {
     "data": {
      "application/vnd.jupyter.widget-view+json": {
       "model_id": "7b39babe95a742a48b0798f6fa9626e1",
       "version_major": 2,
       "version_minor": 0
      },
      "text/plain": [
       "  0%|          | 0/100 [00:00<?, ?it/s]"
      ]
     },
     "metadata": {},
     "output_type": "display_data"
    },
    {
     "name": "stdout",
     "output_type": "stream",
     "text": [
      "sample: torch.Size([3008, 310, 4])\n",
      "Generation batch 47: showers per batch: 64, max. hits per shower: 310, features per hit: 4, sampled_energies: 64\n",
      "\r",
      "Progress: 48/79"
     ]
    },
    {
     "data": {
      "application/vnd.jupyter.widget-view+json": {
       "model_id": "c27ca411fe2b4e1fa75386dc3dddaa1f",
       "version_major": 2,
       "version_minor": 0
      },
      "text/plain": [
       "  0%|          | 0/100 [00:00<?, ?it/s]"
      ]
     },
     "metadata": {},
     "output_type": "display_data"
    },
    {
     "name": "stdout",
     "output_type": "stream",
     "text": [
      "sample: torch.Size([3072, 310, 4])\n",
      "Generation batch 48: showers per batch: 64, max. hits per shower: 310, features per hit: 4, sampled_energies: 64\n",
      "\r",
      "Progress: 49/79"
     ]
    },
    {
     "data": {
      "application/vnd.jupyter.widget-view+json": {
       "model_id": "a484867bf29345f0b20d4ad7aad5237b",
       "version_major": 2,
       "version_minor": 0
      },
      "text/plain": [
       "  0%|          | 0/100 [00:00<?, ?it/s]"
      ]
     },
     "metadata": {},
     "output_type": "display_data"
    },
    {
     "name": "stdout",
     "output_type": "stream",
     "text": [
      "sample: torch.Size([3136, 310, 4])\n",
      "Generation batch 49: showers per batch: 64, max. hits per shower: 310, features per hit: 4, sampled_energies: 64\n",
      "\r",
      "Progress: 50/79"
     ]
    },
    {
     "data": {
      "application/vnd.jupyter.widget-view+json": {
       "model_id": "ce52e48ca227499884179805bb72b3a3",
       "version_major": 2,
       "version_minor": 0
      },
      "text/plain": [
       "  0%|          | 0/100 [00:00<?, ?it/s]"
      ]
     },
     "metadata": {},
     "output_type": "display_data"
    },
    {
     "name": "stdout",
     "output_type": "stream",
     "text": [
      "sample: torch.Size([3200, 310, 4])\n",
      "Generation batch 50: showers per batch: 64, max. hits per shower: 310, features per hit: 4, sampled_energies: 64\n",
      "\r",
      "Progress: 51/79"
     ]
    },
    {
     "data": {
      "application/vnd.jupyter.widget-view+json": {
       "model_id": "4df3feebe967427aab56a4cc41131910",
       "version_major": 2,
       "version_minor": 0
      },
      "text/plain": [
       "  0%|          | 0/100 [00:00<?, ?it/s]"
      ]
     },
     "metadata": {},
     "output_type": "display_data"
    },
    {
     "name": "stdout",
     "output_type": "stream",
     "text": [
      "sample: torch.Size([3264, 310, 4])\n",
      "Generation batch 51: showers per batch: 64, max. hits per shower: 310, features per hit: 4, sampled_energies: 64\n",
      "\r",
      "Progress: 52/79"
     ]
    },
    {
     "data": {
      "application/vnd.jupyter.widget-view+json": {
       "model_id": "b5485b7e754343a2a16bbe5db846cde2",
       "version_major": 2,
       "version_minor": 0
      },
      "text/plain": [
       "  0%|          | 0/100 [00:00<?, ?it/s]"
      ]
     },
     "metadata": {},
     "output_type": "display_data"
    },
    {
     "name": "stdout",
     "output_type": "stream",
     "text": [
      "sample: torch.Size([3328, 310, 4])\n",
      "Generation batch 52: showers per batch: 64, max. hits per shower: 310, features per hit: 4, sampled_energies: 64\n",
      "\r",
      "Progress: 53/79"
     ]
    },
    {
     "data": {
      "application/vnd.jupyter.widget-view+json": {
       "model_id": "0d4b07735b1c40a9a5e4dd3e1632be93",
       "version_major": 2,
       "version_minor": 0
      },
      "text/plain": [
       "  0%|          | 0/100 [00:00<?, ?it/s]"
      ]
     },
     "metadata": {},
     "output_type": "display_data"
    },
    {
     "name": "stdout",
     "output_type": "stream",
     "text": [
      "sample: torch.Size([3392, 310, 4])\n",
      "Generation batch 53: showers per batch: 64, max. hits per shower: 310, features per hit: 4, sampled_energies: 64\n",
      "\r",
      "Progress: 54/79"
     ]
    },
    {
     "data": {
      "application/vnd.jupyter.widget-view+json": {
       "model_id": "bfed8c4143894c469a4405947b1f527a",
       "version_major": 2,
       "version_minor": 0
      },
      "text/plain": [
       "  0%|          | 0/100 [00:00<?, ?it/s]"
      ]
     },
     "metadata": {},
     "output_type": "display_data"
    },
    {
     "name": "stdout",
     "output_type": "stream",
     "text": [
      "sample: torch.Size([3456, 310, 4])\n",
      "Generation batch 54: showers per batch: 64, max. hits per shower: 310, features per hit: 4, sampled_energies: 64\n",
      "\r",
      "Progress: 55/79"
     ]
    },
    {
     "data": {
      "application/vnd.jupyter.widget-view+json": {
       "model_id": "487612a65209402996ef5240d4df5e9f",
       "version_major": 2,
       "version_minor": 0
      },
      "text/plain": [
       "  0%|          | 0/100 [00:00<?, ?it/s]"
      ]
     },
     "metadata": {},
     "output_type": "display_data"
    },
    {
     "name": "stdout",
     "output_type": "stream",
     "text": [
      "sample: torch.Size([3520, 310, 4])\n",
      "Generation batch 55: showers per batch: 64, max. hits per shower: 310, features per hit: 4, sampled_energies: 64\n",
      "\r",
      "Progress: 56/79"
     ]
    },
    {
     "data": {
      "application/vnd.jupyter.widget-view+json": {
       "model_id": "acb98cd1b170460da10c3ec995b21058",
       "version_major": 2,
       "version_minor": 0
      },
      "text/plain": [
       "  0%|          | 0/100 [00:00<?, ?it/s]"
      ]
     },
     "metadata": {},
     "output_type": "display_data"
    },
    {
     "name": "stdout",
     "output_type": "stream",
     "text": [
      "sample: torch.Size([3584, 310, 4])\n",
      "Generation batch 56: showers per batch: 64, max. hits per shower: 310, features per hit: 4, sampled_energies: 64\n",
      "\r",
      "Progress: 57/79"
     ]
    },
    {
     "data": {
      "application/vnd.jupyter.widget-view+json": {
       "model_id": "899ef75ead144e8a9393b6542b56aea7",
       "version_major": 2,
       "version_minor": 0
      },
      "text/plain": [
       "  0%|          | 0/100 [00:00<?, ?it/s]"
      ]
     },
     "metadata": {},
     "output_type": "display_data"
    },
    {
     "name": "stdout",
     "output_type": "stream",
     "text": [
      "sample: torch.Size([3648, 310, 4])\n",
      "Generation batch 57: showers per batch: 64, max. hits per shower: 310, features per hit: 4, sampled_energies: 64\n",
      "\r",
      "Progress: 58/79"
     ]
    },
    {
     "data": {
      "application/vnd.jupyter.widget-view+json": {
       "model_id": "49111819e7cb42d7bcc881ceee1ddac1",
       "version_major": 2,
       "version_minor": 0
      },
      "text/plain": [
       "  0%|          | 0/100 [00:00<?, ?it/s]"
      ]
     },
     "metadata": {},
     "output_type": "display_data"
    },
    {
     "name": "stdout",
     "output_type": "stream",
     "text": [
      "sample: torch.Size([3712, 310, 4])\n",
      "Generation batch 58: showers per batch: 64, max. hits per shower: 310, features per hit: 4, sampled_energies: 64\n",
      "\r",
      "Progress: 59/79"
     ]
    },
    {
     "data": {
      "application/vnd.jupyter.widget-view+json": {
       "model_id": "d8647347bea6426fb32df199ac001f1d",
       "version_major": 2,
       "version_minor": 0
      },
      "text/plain": [
       "  0%|          | 0/100 [00:00<?, ?it/s]"
      ]
     },
     "metadata": {},
     "output_type": "display_data"
    },
    {
     "name": "stdout",
     "output_type": "stream",
     "text": [
      "sample: torch.Size([3776, 310, 4])\n",
      "Generation batch 59: showers per batch: 64, max. hits per shower: 310, features per hit: 4, sampled_energies: 64\n",
      "\r",
      "Progress: 60/79"
     ]
    },
    {
     "data": {
      "application/vnd.jupyter.widget-view+json": {
       "model_id": "2d8c574c547948328eb73eea44fc3520",
       "version_major": 2,
       "version_minor": 0
      },
      "text/plain": [
       "  0%|          | 0/100 [00:00<?, ?it/s]"
      ]
     },
     "metadata": {},
     "output_type": "display_data"
    },
    {
     "name": "stdout",
     "output_type": "stream",
     "text": [
      "sample: torch.Size([3840, 310, 4])\n",
      "Generation batch 60: showers per batch: 64, max. hits per shower: 310, features per hit: 4, sampled_energies: 64\n",
      "\r",
      "Progress: 61/79"
     ]
    },
    {
     "data": {
      "application/vnd.jupyter.widget-view+json": {
       "model_id": "273639c9fe4b42ec92ba169c4db7fda0",
       "version_major": 2,
       "version_minor": 0
      },
      "text/plain": [
       "  0%|          | 0/100 [00:00<?, ?it/s]"
      ]
     },
     "metadata": {},
     "output_type": "display_data"
    },
    {
     "name": "stdout",
     "output_type": "stream",
     "text": [
      "sample: torch.Size([3904, 310, 4])\n",
      "Generation batch 61: showers per batch: 64, max. hits per shower: 310, features per hit: 4, sampled_energies: 64\n",
      "\r",
      "Progress: 62/79"
     ]
    },
    {
     "data": {
      "application/vnd.jupyter.widget-view+json": {
       "model_id": "ec719b22e06649268fa11e38694d49fa",
       "version_major": 2,
       "version_minor": 0
      },
      "text/plain": [
       "  0%|          | 0/100 [00:00<?, ?it/s]"
      ]
     },
     "metadata": {},
     "output_type": "display_data"
    },
    {
     "name": "stdout",
     "output_type": "stream",
     "text": [
      "sample: torch.Size([3968, 310, 4])\n",
      "Generation batch 62: showers per batch: 64, max. hits per shower: 310, features per hit: 4, sampled_energies: 64\n",
      "\r",
      "Progress: 63/79"
     ]
    },
    {
     "data": {
      "application/vnd.jupyter.widget-view+json": {
       "model_id": "c7a803ee06a24377a2741efdc0e52dc4",
       "version_major": 2,
       "version_minor": 0
      },
      "text/plain": [
       "  0%|          | 0/100 [00:00<?, ?it/s]"
      ]
     },
     "metadata": {},
     "output_type": "display_data"
    },
    {
     "name": "stdout",
     "output_type": "stream",
     "text": [
      "sample: torch.Size([4032, 310, 4])\n",
      "Generation batch 63: showers per batch: 64, max. hits per shower: 310, features per hit: 4, sampled_energies: 64\n",
      "\r",
      "Progress: 64/79"
     ]
    },
    {
     "data": {
      "application/vnd.jupyter.widget-view+json": {
       "model_id": "cf7ba1fc60b24d05a87bea5aabd1e146",
       "version_major": 2,
       "version_minor": 0
      },
      "text/plain": [
       "  0%|          | 0/100 [00:00<?, ?it/s]"
      ]
     },
     "metadata": {},
     "output_type": "display_data"
    },
    {
     "name": "stdout",
     "output_type": "stream",
     "text": [
      "sample: torch.Size([4096, 310, 4])\n",
      "Generation batch 64: showers per batch: 64, max. hits per shower: 310, features per hit: 4, sampled_energies: 64\n",
      "\r",
      "Progress: 65/79"
     ]
    },
    {
     "data": {
      "application/vnd.jupyter.widget-view+json": {
       "model_id": "ba32a628e3b24620a38a7508987b2ecb",
       "version_major": 2,
       "version_minor": 0
      },
      "text/plain": [
       "  0%|          | 0/100 [00:00<?, ?it/s]"
      ]
     },
     "metadata": {},
     "output_type": "display_data"
    },
    {
     "name": "stdout",
     "output_type": "stream",
     "text": [
      "sample: torch.Size([4160, 310, 4])\n",
      "Generation batch 65: showers per batch: 64, max. hits per shower: 310, features per hit: 4, sampled_energies: 64\n",
      "\r",
      "Progress: 66/79"
     ]
    },
    {
     "data": {
      "application/vnd.jupyter.widget-view+json": {
       "model_id": "11d2bd3165f3412195cb8b30b4a47cec",
       "version_major": 2,
       "version_minor": 0
      },
      "text/plain": [
       "  0%|          | 0/100 [00:00<?, ?it/s]"
      ]
     },
     "metadata": {},
     "output_type": "display_data"
    },
    {
     "name": "stdout",
     "output_type": "stream",
     "text": [
      "sample: torch.Size([4224, 310, 4])\n",
      "Generation batch 66: showers per batch: 64, max. hits per shower: 310, features per hit: 4, sampled_energies: 64\n",
      "\r",
      "Progress: 67/79"
     ]
    },
    {
     "data": {
      "application/vnd.jupyter.widget-view+json": {
       "model_id": "826f5993104a44eda8e80c0d8b3d10ff",
       "version_major": 2,
       "version_minor": 0
      },
      "text/plain": [
       "  0%|          | 0/100 [00:00<?, ?it/s]"
      ]
     },
     "metadata": {},
     "output_type": "display_data"
    },
    {
     "name": "stdout",
     "output_type": "stream",
     "text": [
      "sample: torch.Size([4288, 310, 4])\n",
      "Generation batch 67: showers per batch: 64, max. hits per shower: 310, features per hit: 4, sampled_energies: 64\n",
      "\r",
      "Progress: 68/79"
     ]
    },
    {
     "data": {
      "application/vnd.jupyter.widget-view+json": {
       "model_id": "e55eb7973194448daa8ce5cf150309fb",
       "version_major": 2,
       "version_minor": 0
      },
      "text/plain": [
       "  0%|          | 0/100 [00:00<?, ?it/s]"
      ]
     },
     "metadata": {},
     "output_type": "display_data"
    },
    {
     "name": "stdout",
     "output_type": "stream",
     "text": [
      "sample: torch.Size([4352, 310, 4])\n",
      "Generation batch 68: showers per batch: 64, max. hits per shower: 310, features per hit: 4, sampled_energies: 64\n",
      "\r",
      "Progress: 69/79"
     ]
    },
    {
     "data": {
      "application/vnd.jupyter.widget-view+json": {
       "model_id": "47b6239025af4be2a47a43050b23a577",
       "version_major": 2,
       "version_minor": 0
      },
      "text/plain": [
       "  0%|          | 0/100 [00:00<?, ?it/s]"
      ]
     },
     "metadata": {},
     "output_type": "display_data"
    },
    {
     "name": "stdout",
     "output_type": "stream",
     "text": [
      "sample: torch.Size([4416, 310, 4])\n",
      "Generation batch 69: showers per batch: 64, max. hits per shower: 310, features per hit: 4, sampled_energies: 64\n",
      "\r",
      "Progress: 70/79"
     ]
    },
    {
     "data": {
      "application/vnd.jupyter.widget-view+json": {
       "model_id": "e3a7110cb3d3461395b28219e61a1441",
       "version_major": 2,
       "version_minor": 0
      },
      "text/plain": [
       "  0%|          | 0/100 [00:00<?, ?it/s]"
      ]
     },
     "metadata": {},
     "output_type": "display_data"
    },
    {
     "name": "stdout",
     "output_type": "stream",
     "text": [
      "sample: torch.Size([4480, 310, 4])\n",
      "Generation batch 70: showers per batch: 64, max. hits per shower: 310, features per hit: 4, sampled_energies: 64\n",
      "\r",
      "Progress: 71/79"
     ]
    },
    {
     "data": {
      "application/vnd.jupyter.widget-view+json": {
       "model_id": "647ccb50a63240d7962099145b3bdeab",
       "version_major": 2,
       "version_minor": 0
      },
      "text/plain": [
       "  0%|          | 0/100 [00:00<?, ?it/s]"
      ]
     },
     "metadata": {},
     "output_type": "display_data"
    },
    {
     "name": "stdout",
     "output_type": "stream",
     "text": [
      "sample: torch.Size([4544, 310, 4])\n",
      "Generation batch 71: showers per batch: 64, max. hits per shower: 310, features per hit: 4, sampled_energies: 64\n",
      "\r",
      "Progress: 72/79"
     ]
    },
    {
     "data": {
      "application/vnd.jupyter.widget-view+json": {
       "model_id": "9a10aaa44fc844acac005243e1596d51",
       "version_major": 2,
       "version_minor": 0
      },
      "text/plain": [
       "  0%|          | 0/100 [00:00<?, ?it/s]"
      ]
     },
     "metadata": {},
     "output_type": "display_data"
    },
    {
     "name": "stdout",
     "output_type": "stream",
     "text": [
      "sample: torch.Size([4608, 310, 4])\n",
      "Generation batch 72: showers per batch: 64, max. hits per shower: 310, features per hit: 4, sampled_energies: 64\n",
      "\r",
      "Progress: 73/79"
     ]
    },
    {
     "data": {
      "application/vnd.jupyter.widget-view+json": {
       "model_id": "18b26659b3b54a86b65dad335fbf309f",
       "version_major": 2,
       "version_minor": 0
      },
      "text/plain": [
       "  0%|          | 0/100 [00:00<?, ?it/s]"
      ]
     },
     "metadata": {},
     "output_type": "display_data"
    },
    {
     "name": "stdout",
     "output_type": "stream",
     "text": [
      "sample: torch.Size([4672, 310, 4])\n",
      "Generation batch 73: showers per batch: 64, max. hits per shower: 310, features per hit: 4, sampled_energies: 64\n",
      "\r",
      "Progress: 74/79"
     ]
    },
    {
     "data": {
      "application/vnd.jupyter.widget-view+json": {
       "model_id": "2818c9051aa640f1832098163c8680cb",
       "version_major": 2,
       "version_minor": 0
      },
      "text/plain": [
       "  0%|          | 0/100 [00:00<?, ?it/s]"
      ]
     },
     "metadata": {},
     "output_type": "display_data"
    },
    {
     "name": "stdout",
     "output_type": "stream",
     "text": [
      "sample: torch.Size([4736, 310, 4])\n",
      "Generation batch 74: showers per batch: 64, max. hits per shower: 310, features per hit: 4, sampled_energies: 64\n",
      "\r",
      "Progress: 75/79"
     ]
    },
    {
     "data": {
      "application/vnd.jupyter.widget-view+json": {
       "model_id": "d6acc1a9d9d6448da3f5b4fefcbf1219",
       "version_major": 2,
       "version_minor": 0
      },
      "text/plain": [
       "  0%|          | 0/100 [00:00<?, ?it/s]"
      ]
     },
     "metadata": {},
     "output_type": "display_data"
    },
    {
     "name": "stdout",
     "output_type": "stream",
     "text": [
      "sample: torch.Size([4800, 310, 4])\n",
      "Generation batch 75: showers per batch: 64, max. hits per shower: 310, features per hit: 4, sampled_energies: 64\n",
      "\r",
      "Progress: 76/79"
     ]
    },
    {
     "data": {
      "application/vnd.jupyter.widget-view+json": {
       "model_id": "87644c7793d2496892afae85b7dca6de",
       "version_major": 2,
       "version_minor": 0
      },
      "text/plain": [
       "  0%|          | 0/100 [00:00<?, ?it/s]"
      ]
     },
     "metadata": {},
     "output_type": "display_data"
    },
    {
     "name": "stdout",
     "output_type": "stream",
     "text": [
      "sample: torch.Size([4864, 310, 4])\n",
      "Generation batch 76: showers per batch: 64, max. hits per shower: 310, features per hit: 4, sampled_energies: 64\n",
      "\r",
      "Progress: 77/79"
     ]
    },
    {
     "data": {
      "application/vnd.jupyter.widget-view+json": {
       "model_id": "a0c7d37f82ca445b9a88a753cd70ae19",
       "version_major": 2,
       "version_minor": 0
      },
      "text/plain": [
       "  0%|          | 0/100 [00:00<?, ?it/s]"
      ]
     },
     "metadata": {},
     "output_type": "display_data"
    },
    {
     "name": "stdout",
     "output_type": "stream",
     "text": [
      "sample: torch.Size([4928, 310, 4])\n",
      "Generation batch 77: showers per batch: 64, max. hits per shower: 310, features per hit: 4, sampled_energies: 64\n",
      "\r",
      "Progress: 78/79"
     ]
    },
    {
     "data": {
      "application/vnd.jupyter.widget-view+json": {
       "model_id": "a08583fa15464279898c1cb3d9e5efa9",
       "version_major": 2,
       "version_minor": 0
      },
      "text/plain": [
       "  0%|          | 0/100 [00:00<?, ?it/s]"
      ]
     },
     "metadata": {},
     "output_type": "display_data"
    },
    {
     "name": "stdout",
     "output_type": "stream",
     "text": [
      "sample: torch.Size([4992, 310, 4])\n",
      "Generation batch 78: showers per batch: 8, max. hits per shower: 310, features per hit: 4, sampled_energies: 8\n",
      "\r",
      "Progress: 79/79"
     ]
    },
    {
     "data": {
      "application/vnd.jupyter.widget-view+json": {
       "model_id": "9e146d48718746dfa0f4deedebec01f0",
       "version_major": 2,
       "version_minor": 0
      },
      "text/plain": [
       "  0%|          | 0/100 [00:00<?, ?it/s]"
      ]
     },
     "metadata": {},
     "output_type": "display_data"
    },
    {
     "name": "stdout",
     "output_type": "stream",
     "text": [
      "sample: torch.Size([5000, 310, 4])\n"
     ]
    },
    {
     "data": {
      "image/png": "[encoded data removed]",
      "text/plain": [
       "<Figure size 2880x720 with 5 Axes>"
      ]
     },
     "metadata": {},
     "output_type": "display_data"
    },
    {
     "data": {
      "image/png": "[encoded data removed]",
      "text/plain": [
       "<Figure size 432x288 with 2 Axes>"
      ]
     },
     "metadata": {
      "needs_background": "light"
     },
     "output_type": "display_data"
    },
    {
     "data": {
      "image/png": "[encoded data removed]",
      "text/plain": [
       "<Figure size 2880x720 with 5 Axes>"
      ]
     },
     "metadata": {
      "needs_background": "light"
     },
     "output_type": "display_data"
    }
   ],
   "source": [
    "from IPython import display\n",
    "from datetime import datetime\n",
    "import functools, torch, os, sys, random\n",
    "from datetime import datetime\n",
    "import numpy as np\n",
    "import matplotlib.pyplot as plt\n",
    "import tqdm\n",
    "workingdir = \"./\"\n",
    "\n",
    "# SAMPLE PARAMETERS\n",
    "n_sampler_calls = 100\n",
    "sampler_steps = 100\n",
    "\n",
    "print(f'batch_size: {batch_size}')\n",
    "\n",
    "output_directory = workingdir+'/sampling_'+str(sampler_steps)+'samplersteps_'+datetime.now().strftime('%Y%m%d_%H%M')+'_output/'\n",
    "if not os.path.exists(output_directory):\n",
    "    os.makedirs(output_directory)\n",
    "\n",
    "# Load saved model\n",
    "model.load_state_dict(torch.load('training_20230718_1401_output/ckpt_tmp_49.pth', map_location=device))\n",
    "model.to(device)\n",
    "\n",
    "# Get max. N hits / N valid hits in batch\n",
    "n_valid_hits_per_shower = []\n",
    "incident_e_per_shower = []\n",
    "geant_deposited_energy = []\n",
    "max_hits = -1\n",
    "print(f'Files: {files_list_}')\n",
    "for file in files_list_:\n",
    "    # Load shower data\n",
    "    custom_data = utils.cloud_dataset(file, device=device)\n",
    "    point_clouds_loader = DataLoader(custom_data, batch_size=batch_size, shuffle=False)\n",
    "    # Loop over batches\n",
    "    for i, (shower_data, incident_energies) in enumerate(point_clouds_loader,0):\n",
    "\n",
    "        # Copy data\n",
    "        valid_event = []\n",
    "        data_np = shower_data.cpu().numpy().copy()\n",
    "        energy_np = incident_energies.cpu().numpy().copy()\n",
    "\n",
    "        # Mask for padded values\n",
    "        masking = data_np[:,:,0] != -20\n",
    "        \n",
    "        # Loop over each shower in batch\n",
    "        for j in range(len(data_np)):\n",
    "            # Mask padded hits and count valid hits for shower j in batch\n",
    "            valid_hits = data_np[j][masking[j]]\n",
    "            n_valid_hits_per_shower.append(len(valid_hits))\n",
    "            if len(valid_hits)>max_hits:\n",
    "                max_hits = len(valid_hits)\n",
    "            incident_e_per_shower.append(energy_np[j])\n",
    "            geant_deposited_energy.append( sum( valid_hits[:,0] ) )\n",
    "    del custom_data\n",
    "    \n",
    "# Arrays of Nvalid hits in showers, incident energies per shower\n",
    "n_valid_hits_per_shower = np.array(n_valid_hits_per_shower)\n",
    "incident_e_per_shower = np.array(incident_e_per_shower)\n",
    "max_incident_e = max(incident_e_per_shower)\n",
    "min_incident_e = min(incident_e_per_shower)\n",
    "\n",
    "# Generate 2D pdf of incident E vs N valid hits from the training file(s)\n",
    "n_bins_prob_dist = 10\n",
    "e_vs_nhits_prob, x_bin, y_bin = trans_tdsm.get_prob_dist(incident_e_per_shower, n_valid_hits_per_shower, n_bins_prob_dist)\n",
    "\n",
    "# Plot 2D histogram (sanity check)\n",
    "fig0, (ax0) = plt.subplots(ncols=1, sharey=True)\n",
    "dh0 = display.display(fig0, display_id=True)\n",
    "heatmap = ax0.pcolormesh(y_bin, x_bin, e_vs_nhits_prob, cmap='rainbow')\n",
    "ax0.plot(n_valid_hits_per_shower, n_valid_hits_per_shower, 'k-')\n",
    "ax0.set_xlim(n_valid_hits_per_shower.min(), n_valid_hits_per_shower.max())\n",
    "ax0.set_ylim(incident_e_per_shower.min(), incident_e_per_shower.max())\n",
    "ax0.set_xlabel('n_valid_hits_per_shower')\n",
    "ax0.set_ylabel('incident_e_per_shower')\n",
    "cbar = plt.colorbar(heatmap)\n",
    "cbar.ax.set_ylabel('PDF', rotation=270)\n",
    "ax0.set_title('histogram2d')\n",
    "ax0.grid()\n",
    "dh0.update(fig0)\n",
    "\n",
    "# Generate tensor sampled from the appropriate range of injection energies\n",
    "n_showers_2_gen =  5000\n",
    "idx_list_incident_e = torch.randint(0, len(incident_e_per_shower), (n_showers_2_gen,))\n",
    "in_energies = np.random.choice( incident_e_per_shower, n_showers_2_gen )\n",
    "in_energies = torch.from_numpy(in_energies)\n",
    "\n",
    "# Sample from 2D pdf = nhits per shower vs incident energies -> nhits and a tensor of randomly initialised hit features\n",
    "nhits, gen_hits = trans_tdsm.generate_hits(e_vs_nhits_prob, x_bin, y_bin, in_energies, max_hits, 4, device=device)\n",
    "\n",
    "# Save\n",
    "torch.save([gen_hits, in_energies],'tmp.pt')\n",
    "\n",
    "# Load the showers of noise\n",
    "gen_hits = utils.cloud_dataset('tmp.pt', device=device)\n",
    "# Pad showers\n",
    "gen_hits.padding(padding_value)\n",
    "# Load len(gen_hits_loader) number of batches each with batch_size number of showers\n",
    "gen_hits_loader = DataLoader(gen_hits, batch_size=batch_size, shuffle=False)\n",
    "\n",
    "# Remove noise shower file\n",
    "os.system(\"rm tmp.pt\")\n",
    "\n",
    "# Instantiate sampler\n",
    "sample = []\n",
    "pc_sampler = trans_tdsm.pc_sampler(snr=0.16, sampler_steps=sampler_steps, device=device, jupyternotebook=True)\n",
    "\n",
    "# Loop over each batch of noise showers\n",
    "print(f'# batches: {len(gen_hits_loader)}' )\n",
    "for i, (gen_hit, sampled_energies) in enumerate(gen_hits_loader,0):\n",
    "    \n",
    "    print(f'Generation batch {i}: showers per batch: {gen_hit.shape[0]}, max. hits per shower: {gen_hit.shape[1]}, features per hit: {gen_hit.shape[2]}, sampled_energies: {len(sampled_energies)}')    \n",
    "    sys.stdout.write('\\r')\n",
    "    sys.stdout.write(\"Progress: %d/%d\" % ((i+1), len(gen_hits_loader)))\n",
    "    sys.stdout.flush()\n",
    "    \n",
    "    # Run reverse diffusion sampler\n",
    "    generative = pc_sampler(model, marginal_prob_std_fn, diffusion_coeff_fn, sampled_energies, gen_hit, batch_size=gen_hit.shape[0])\n",
    "    \n",
    "    # Create first sample or concatenate sample to sample list\n",
    "    if i == 0:\n",
    "        sample = generative\n",
    "    else:\n",
    "        sample = torch.cat([sample,generative])\n",
    "    \n",
    "    print(f'sample: {sample.shape}')\n",
    "\n",
    "# Create plots of distributions evolving with diffusion steps\n",
    "if jupyternotebook:\n",
    "    fig1, (ax1,ax2,ax3,ax4,ax5) = plt.subplots(nrows=1,ncols=5,figsize=(40,10))\n",
    "    dh = display.display(fig1, display_id=True)\n",
    "\n",
    "    label_tmp = 'step=1'\n",
    "    ax1.scatter(pc_sampler.deposited_energy_t1 , pc_sampler.incident_e_t1, alpha=0.5, label=label_tmp)\n",
    "    ax1.scatter(geant_deposited_energy, incident_e_per_shower, marker='x', alpha=0.5, label='GEANT')\n",
    "    ax1.set_xlabel('Total deposited energy')\n",
    "    ax1.set_ylabel('Incident energy')\n",
    "    ax1.legend(loc='upper right')\n",
    "    \n",
    "    label_tmp = 'step=25'\n",
    "    ax2.scatter(pc_sampler.deposited_energy_t25 , pc_sampler.incident_e_t25, alpha=0.5, label=label_tmp)\n",
    "    ax2.scatter(geant_deposited_energy, incident_e_per_shower, marker='x', alpha=0.5, label='GEANT')\n",
    "    ax2.set_xlabel('Total deposited energy')\n",
    "    ax2.set_ylabel('Incident energy')\n",
    "    ax2.legend(loc='upper right')\n",
    "    \n",
    "    label_tmp = 'step=50'\n",
    "    ax3.scatter(pc_sampler.deposited_energy_t50 , pc_sampler.incident_e_t50, alpha=0.5, label=label_tmp)\n",
    "    ax3.scatter(geant_deposited_energy, incident_e_per_shower, marker='x', alpha=0.5, label='GEANT')\n",
    "    ax3.set_xlabel('Total deposited energy')\n",
    "    ax3.set_ylabel('Incident energy')\n",
    "    ax3.legend(loc='upper right')\n",
    "    \n",
    "    label_tmp = 'step=75'\n",
    "    ax4.scatter(pc_sampler.deposited_energy_t75 , pc_sampler.incident_e_t75, alpha=0.5, label=label_tmp)\n",
    "    ax4.scatter(geant_deposited_energy, incident_e_per_shower, marker='x', alpha=0.5, label='GEANT')\n",
    "    ax4.set_xlabel('Total deposited energy')\n",
    "    ax4.set_ylabel('Incident energy')\n",
    "    ax4.legend(loc='upper right')\n",
    "    \n",
    "    label_tmp = 'step=99'\n",
    "    ax5.scatter(pc_sampler.deposited_energy_t99 , pc_sampler.incident_e_t99, alpha=0.5, label=label_tmp)\n",
    "    ax5.scatter(geant_deposited_energy, incident_e_per_shower, marker='x', alpha=0.5, label='GEANT')\n",
    "    ax5.set_xlabel('Total deposited energy')\n",
    "    ax5.set_ylabel('Incident energy')\n",
    "    ax5.legend(loc='upper left')\n",
    "    \n",
    "    fig_name = os.path.join(output_directory, 'incident_v_deposited_e.png')\n",
    "    fig1.savefig(fig_name)\n",
    "\n",
    "    \n",
    "sample_ = []\n",
    "sample_np = sample.cpu().numpy()\n",
    "\n",
    "for i in range(len(sample_np)):\n",
    "    tmp_sample = sample_np[i][:nhits[i]]\n",
    "    sample_.append(torch.tensor(tmp_sample))\n",
    "torch.save([sample_,in_energies], os.path.join(output_directory, 'sample.pt'))\n"
   ]
  },
  {
   "cell_type": "markdown",
   "id": "717a064f",
   "metadata": {},
   "source": [
    "## Draw Generative Distribution"
   ]
  },
  {
   "cell_type": "code",
   "execution_count": 5,
   "id": "30b64eba",
   "metadata": {
    "scrolled": false
   },
   "outputs": [
    {
     "name": "stdout",
     "output_type": "stream",
     "text": [
      "Generated inputs\n",
      "plot_distribution running on input type 'cloud_dataset'\n",
      "Geant4 inputs\n",
      "plot_distribution running on input type 'files'\n",
      "n_files <class 'int'>: 3\n",
      "nshowers_2_plot <class 'int'>: 5000\n",
      "File: /eos/user/j/jthomasw/tdsm_encoder/datasets/power_transformer/dataset_1_photons_padded_nentry121To150.pt\n",
      "# batches: 14635\n",
      "File: /eos/user/j/jthomasw/tdsm_encoder/datasets/power_transformer/dataset_1_photons_padded_nentry211To240.pt\n",
      "# batches: 8917\n",
      "File: /eos/user/j/jthomasw/tdsm_encoder/datasets/power_transformer/dataset_1_photons_padded_nentry301To330.pt\n",
      "# batches: 28518\n",
      "Plot # entries\n",
      "Plot incident energies\n",
      "Plot total deposited hit energy\n",
      "Plot hit energies\n",
      "Plot hit x\n",
      "Plot hit y\n",
      "Plot hit z\n"
     ]
    },
    {
     "data": {
      "image/png": "[encoded data removed]",
      "text/plain": [
       "<Figure size 864x864 with 9 Axes>"
      ]
     },
     "metadata": {
      "needs_background": "light"
     },
     "output_type": "display_data"
    }
   ],
   "source": [
    "import utils, sys\n",
    "#sys.path.insert(1, '../')\n",
    "import util.display\n",
    "\n",
    "# Distributions object for generated files\n",
    "print(f'Generated inputs')\n",
    "output_directory = 'sampling_100samplersteps_20230718_1604_output'\n",
    "plot_file_name = os.path.join(output_directory, 'sample.pt')\n",
    "custom_data = utils.cloud_dataset(plot_file_name,device=device)\n",
    "dists_gen = util.display.plot_distribution(custom_data, nshowers_2_plot=n_showers_2_gen)\n",
    "\n",
    "print(f'Geant4 inputs')\n",
    "# Distributions object for Geant4 files\n",
    "dists = util.display.plot_distribution(files_list_, nshowers_2_plot=n_showers_2_gen)\n",
    "\n",
    "print('Plot # entries')\n",
    "entries = dists[0]\n",
    "entries_gen = dists_gen[0]\n",
    "bins=np.histogram(np.hstack((entries,entries_gen)), bins=50)[1]\n",
    "fig, ax = plt.subplots(3,3, figsize=(12,12))\n",
    "ax[0][0].set_ylabel('# entries')\n",
    "ax[0][0].set_xlabel('Hit entries')\n",
    "ax[0][0].hist(entries, bins, alpha=0.5, label='Geant4')\n",
    "ax[0][0].hist(entries_gen, bins, alpha=0.5, label='Gen')\n",
    "ax[0][0].legend(loc='upper right')\n",
    "\n",
    "print('Plot incident energies')\n",
    "all_incident_e = dists[1]\n",
    "all_incident_e_gen = dists_gen[1]\n",
    "bins=np.histogram(np.hstack((all_incident_e,all_incident_e_gen)), bins=50)[1]\n",
    "ax[1][2].set_ylabel('# entries')\n",
    "ax[1][2].set_xlabel('Incident energies [GeV]')\n",
    "ax[1][2].hist(all_incident_e, bins, alpha=0.5, label='Geant4')\n",
    "ax[1][2].hist(all_incident_e_gen, bins, alpha=0.5, label='Gen')\n",
    "ax[1][2].set_yscale('log')\n",
    "ax[1][2].legend(loc='upper right')\n",
    "\n",
    "print('Plot total deposited hit energy')\n",
    "total_deposited_e_shower = dists[2]\n",
    "total_deposited_e_shower_gen = dists_gen[2]\n",
    "bins=np.histogram(np.hstack((total_deposited_e_shower,total_deposited_e_shower_gen)), bins=50)[1]\n",
    "ax[2][0].set_ylabel('# entries')\n",
    "ax[2][0].set_xlabel('Deposited energy [GeV]')\n",
    "ax[2][0].hist(total_deposited_e_shower, bins, alpha=0.5, label='Geant4')\n",
    "ax[2][0].hist(total_deposited_e_shower_gen, bins, alpha=0.5, label='Gen')\n",
    "ax[2][0].set_yscale('log')\n",
    "ax[2][0].legend(loc='upper right')\n",
    "\n",
    "print('Plot hit energies')\n",
    "all_e = dists[3]\n",
    "all_e_gen = dists_gen[3]\n",
    "bins=np.histogram(np.hstack((all_e,all_e_gen)), bins=50)[1]\n",
    "ax[0][1].set_ylabel('# entries')\n",
    "ax[0][1].set_xlabel('Hit energy [GeV]')\n",
    "ax[0][1].hist(all_e, bins, alpha=0.5, label='Geant4')\n",
    "ax[0][1].hist(all_e_gen, bins, alpha=0.5, label='Gen')\n",
    "ax[0][1].set_yscale('log')\n",
    "ax[0][1].legend(loc='upper right')\n",
    "\n",
    "print('Plot hit x')\n",
    "all_x = dists[4]\n",
    "all_x_gen = dists_gen[4]\n",
    "bins=np.histogram(np.hstack((all_x,all_x_gen)), bins=50)[1]\n",
    "ax[0][2].set_ylabel('# entries')\n",
    "ax[0][2].set_xlabel('Hit x position')\n",
    "ax[0][2].hist(all_x, bins, alpha=0.5, label='Geant4')\n",
    "ax[0][2].hist(all_x_gen, bins, alpha=0.5, label='Gen')\n",
    "ax[0][2].set_yscale('log')\n",
    "ax[0][2].legend(loc='upper right')\n",
    "\n",
    "print('Plot hit y')\n",
    "all_y = dists[5]\n",
    "all_y_gen = dists_gen[5]\n",
    "bins=np.histogram(np.hstack((all_y,all_y_gen)), bins=50)[1]\n",
    "ax[1][0].set_ylabel('# entries')\n",
    "ax[1][0].set_xlabel('Hit y position')\n",
    "ax[1][0].hist(all_y, bins, alpha=0.5, label='Geant4')\n",
    "ax[1][0].hist(all_y_gen, bins, alpha=0.5, label='Gen')\n",
    "ax[1][0].set_yscale('log')\n",
    "ax[1][0].legend(loc='upper right')\n",
    "\n",
    "print('Plot hit z')\n",
    "all_z = dists[6]\n",
    "all_z_gen = dists_gen[6]\n",
    "bins=np.histogram(np.hstack((all_z,all_z_gen)), bins=50)[1]\n",
    "ax[1][1].set_ylabel('# entries')\n",
    "ax[1][1].set_xlabel('Hit z position')\n",
    "ax[1][1].hist(all_z, bins, alpha=0.5, label='Geant4')\n",
    "ax[1][1].hist(all_z_gen, bins, alpha=0.5, label='Gen')\n",
    "ax[1][1].set_yscale('log')\n",
    "ax[1][1].legend(loc='upper right')\n",
    "\n",
    "fig.show()\n",
    "\n",
    "fig_name = os.path.join(output_directory, 'Geant_Gen_comparison.png')\n",
    "fig.savefig(fig_name)"
   ]
  },
  {
   "cell_type": "code",
   "execution_count": null,
   "id": "35ea78a9",
   "metadata": {},
   "outputs": [],
   "source": []
  }
 ],
 "metadata": {
  "kernelspec": {
   "display_name": "Python 3",
   "language": "python",
   "name": "python3"
  },
  "language_info": {
   "codemirror_mode": {
    "name": "ipython",
    "version": 3
   },
   "file_extension": ".py",
   "mimetype": "text/x-python",
   "name": "python",
   "nbconvert_exporter": "python",
   "pygments_lexer": "ipython3",
   "version": "3.9.12"
  }
 },
 "nbformat": 4,
 "nbformat_minor": 5
}
