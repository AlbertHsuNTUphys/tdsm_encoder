{
 "cells": [
  {
   "cell_type": "markdown",
   "id": "b42a868f",
   "metadata": {},
   "source": [
    "# tdsm encoder\n",
    "Here provides the interface of interacting with function in `util` to perform the training & sampling of generative model. "
   ]
  },
  {
   "cell_type": "markdown",
   "id": "9665c976",
   "metadata": {},
   "source": [
    "## import model"
   ]
  },
  {
   "cell_type": "code",
   "execution_count": 1,
   "id": "4f48dd31",
   "metadata": {},
   "outputs": [],
   "source": [
    "import time, functools, torch, os,sys, random, fnmatch, psutil\n",
    "from datetime import datetime\n",
    "import numpy as np\n",
    "import matplotlib.pyplot as plt\n",
    "import torch.nn as nn\n",
    "import torch.nn.functional as F\n",
    "from torch.optim import Adam\n",
    "import torchvision.transforms as transforms\n",
    "from torch.utils.data import Dataset, DataLoader\n",
    "import util.dataset_structure, util.display, util.model\n",
    "import tqdm"
   ]
  },
  {
   "cell_type": "markdown",
   "id": "111518e1",
   "metadata": {},
   "source": [
    "## Parameter setting"
   ]
  },
  {
   "cell_type": "code",
   "execution_count": 2,
   "id": "da062e94",
   "metadata": {},
   "outputs": [],
   "source": [
    "device = 'cuda' if torch.cuda.is_available() else 'cpu'\n",
    "padding_value = -20\n",
    "\n",
    "dataset = \"toy_model\"\n",
    "dataset_store_path = \"/eos/user/t/tihsu/database/ML_hackthon/toy_model\"\n",
    "transform = None\n",
    "transform_y = None\n",
    "mask = True"
   ]
  },
  {
   "cell_type": "markdown",
   "id": "b639da82",
   "metadata": {},
   "source": [
    "### Training parameter"
   ]
  },
  {
   "cell_type": "code",
   "execution_count": 7,
   "id": "6d892aaa",
   "metadata": {},
   "outputs": [
    {
     "name": "stdout",
     "output_type": "stream",
     "text": [
      "torch version:  1.11.0a0+gitbc2c6ed\n",
      "Running on device:  cuda\n",
      "Cuda used to build pyTorch:  11.7\n",
      "Current device:  0\n",
      "Cuda arch list:  ['sm_37', 'sm_50', 'sm_60', 'sm_61', 'sm_70', 'sm_75', 'compute_37']\n",
      "Working directory:  ./\n",
      "['samples/toy_model.pt']\n",
      "Initial GaussianFourierProjection W weights: Parameter containing:\n",
      "tensor([ 10.5974,  52.9606,   7.4654,  14.0131, -41.1310, -65.1886,  -6.4550,\n",
      "         -9.1337,  19.5923,  12.9296,   4.2607,   7.2818,   0.2795,  20.8819,\n",
      "        -54.9812,  -5.9966,  29.8464, -12.1570,  27.7259, -36.8879,  24.4611,\n",
      "        -55.1731, -47.0885,  56.2803,  -6.9121,  47.7538,  43.1906,  10.3425,\n",
      "        -18.3792,   4.6198, -35.4150, -24.0527])\n",
      "Initial Dense weights: Parameter containing:\n",
      "tensor([[ 0.0519, -0.1237, -0.0771,  0.0173, -0.0072, -0.0218, -0.0492, -0.0039,\n",
      "         -0.0559, -0.0079,  0.0832,  0.0043, -0.0598, -0.0597,  0.0796, -0.0043,\n",
      "         -0.0670, -0.0806,  0.0970,  0.0503,  0.0216, -0.0452, -0.0105,  0.0512,\n",
      "         -0.0582,  0.0156, -0.0924,  0.0322,  0.0906,  0.1173, -0.1163,  0.0459,\n",
      "         -0.0555, -0.0223,  0.0784, -0.0925,  0.0098,  0.0966, -0.0576,  0.1217,\n",
      "         -0.0163,  0.0227,  0.0976,  0.0005,  0.0568, -0.1211,  0.0995,  0.0962,\n",
      "         -0.0407,  0.0237,  0.0105, -0.0763, -0.0759,  0.0247,  0.0868, -0.0479,\n",
      "         -0.0752, -0.0286,  0.0073, -0.0245, -0.0142,  0.0974,  0.0384,  0.0283]],\n",
      "       requires_grad=True)\n",
      "model:  Gen(\n",
      "  (embed): Linear(in_features=4, out_features=64, bias=True)\n",
      "  (embed_t): Sequential(\n",
      "    (0): GaussianFourierProjection()\n",
      "    (1): Linear(in_features=64, out_features=64, bias=True)\n",
      "  )\n",
      "  (dense1): Dense(\n",
      "    (dense): Linear(in_features=64, out_features=1, bias=True)\n",
      "  )\n",
      "  (encoder): ModuleList(\n",
      "    (0): Block(\n",
      "      (attn): MultiheadAttention(\n",
      "        (out_proj): NonDynamicallyQuantizableLinear(in_features=64, out_features=64, bias=True)\n",
      "      )\n",
      "      (dropout): Dropout(p=0, inplace=False)\n",
      "      (fc1): Linear(in_features=64, out_features=128, bias=True)\n",
      "      (fc2): Linear(in_features=128, out_features=64, bias=True)\n",
      "      (fc1_cls): Linear(in_features=64, out_features=128, bias=True)\n",
      "      (fc2_cls): Linear(in_features=128, out_features=64, bias=True)\n",
      "      (act): GELU()\n",
      "      (act_dropout): Dropout(p=0, inplace=False)\n",
      "    )\n",
      "    (1): Block(\n",
      "      (attn): MultiheadAttention(\n",
      "        (out_proj): NonDynamicallyQuantizableLinear(in_features=64, out_features=64, bias=True)\n",
      "      )\n",
      "      (dropout): Dropout(p=0, inplace=False)\n",
      "      (fc1): Linear(in_features=64, out_features=128, bias=True)\n",
      "      (fc2): Linear(in_features=128, out_features=64, bias=True)\n",
      "      (fc1_cls): Linear(in_features=64, out_features=128, bias=True)\n",
      "      (fc2_cls): Linear(in_features=128, out_features=64, bias=True)\n",
      "      (act): GELU()\n",
      "      (act_dropout): Dropout(p=0, inplace=False)\n",
      "    )\n",
      "    (2): Block(\n",
      "      (attn): MultiheadAttention(\n",
      "        (out_proj): NonDynamicallyQuantizableLinear(in_features=64, out_features=64, bias=True)\n",
      "      )\n",
      "      (dropout): Dropout(p=0, inplace=False)\n",
      "      (fc1): Linear(in_features=64, out_features=128, bias=True)\n",
      "      (fc2): Linear(in_features=128, out_features=64, bias=True)\n",
      "      (fc1_cls): Linear(in_features=64, out_features=128, bias=True)\n",
      "      (fc2_cls): Linear(in_features=128, out_features=64, bias=True)\n",
      "      (act): GELU()\n",
      "      (act_dropout): Dropout(p=0, inplace=False)\n",
      "    )\n",
      "    (3): Block(\n",
      "      (attn): MultiheadAttention(\n",
      "        (out_proj): NonDynamicallyQuantizableLinear(in_features=64, out_features=64, bias=True)\n",
      "      )\n",
      "      (dropout): Dropout(p=0, inplace=False)\n",
      "      (fc1): Linear(in_features=64, out_features=128, bias=True)\n",
      "      (fc2): Linear(in_features=128, out_features=64, bias=True)\n",
      "      (fc1_cls): Linear(in_features=64, out_features=128, bias=True)\n",
      "      (fc2_cls): Linear(in_features=128, out_features=64, bias=True)\n",
      "      (act): GELU()\n",
      "      (act_dropout): Dropout(p=0, inplace=False)\n",
      "    )\n",
      "    (4): Block(\n",
      "      (attn): MultiheadAttention(\n",
      "        (out_proj): NonDynamicallyQuantizableLinear(in_features=64, out_features=64, bias=True)\n",
      "      )\n",
      "      (dropout): Dropout(p=0, inplace=False)\n",
      "      (fc1): Linear(in_features=64, out_features=128, bias=True)\n",
      "      (fc2): Linear(in_features=128, out_features=64, bias=True)\n",
      "      (fc1_cls): Linear(in_features=64, out_features=128, bias=True)\n",
      "      (fc2_cls): Linear(in_features=128, out_features=64, bias=True)\n",
      "      (act): GELU()\n",
      "      (act_dropout): Dropout(p=0, inplace=False)\n",
      "    )\n",
      "    (5): Block(\n",
      "      (attn): MultiheadAttention(\n",
      "        (out_proj): NonDynamicallyQuantizableLinear(in_features=64, out_features=64, bias=True)\n",
      "      )\n",
      "      (dropout): Dropout(p=0, inplace=False)\n",
      "      (fc1): Linear(in_features=64, out_features=128, bias=True)\n",
      "      (fc2): Linear(in_features=128, out_features=64, bias=True)\n",
      "      (fc1_cls): Linear(in_features=64, out_features=128, bias=True)\n",
      "      (fc2_cls): Linear(in_features=128, out_features=64, bias=True)\n",
      "      (act): GELU()\n",
      "      (act_dropout): Dropout(p=0, inplace=False)\n",
      "    )\n",
      "  )\n",
      "  (dropout): Dropout(p=0, inplace=False)\n",
      "  (out): Linear(in_features=64, out_features=4, bias=True)\n",
      "  (act): GELU()\n",
      ")\n",
      "label: embed64_hid128_6trans_4head_dropout0_mask\n"
     ]
    }
   ],
   "source": [
    "batch_size = 150\n",
    "lr = 0.0001\n",
    "n_epochs = 500\n",
    "workingdir = \"./\"\n",
    "batch_size = 150\n",
    "train_ratio = 0.9\n",
    "\n",
    "sigma = 25.0\n",
    "vesde = util.dataset_structure.VESDE(device=device)\n",
    "new_marginal_prob_std_fn = functools.partial(vesde.marginal_prob)\n",
    "new_diffusion_coeff_fn   = functools.partial(vesde.sde)\n",
    "\n",
    "print('torch version: ', torch.__version__)\n",
    "print('Running on device: ', device)\n",
    "if torch.cuda.is_available():\n",
    "    print('Cuda used to build pyTorch: ',torch.version.cuda)\n",
    "    print('Current device: ', torch.cuda.current_device())\n",
    "    print('Cuda arch list: ', torch.cuda.get_arch_list())\n",
    "\n",
    "print('Working directory: ', workingdir)\n",
    "\n",
    "files_list_ = []\n",
    "for filename in os.listdir('samples'):\n",
    "    if fnmatch.fnmatch(filename, '*' + dataset + '*.pt'):\n",
    "        files_list_.append(os.path.join('samples', filename))\n",
    "print(files_list_)\n",
    "\n",
    "n_features = 4\n",
    "embed_dim = 64\n",
    "hidden_dim = 128\n",
    "n_transformer = 6\n",
    "n_head  = 4\n",
    "dropout = 0\n",
    "model = util.model.Gen(n_features, embed_dim, hidden_dim, n_transformer, n_head, dropout, marginal_prob_std=new_marginal_prob_std_fn)\n",
    "print('model: ', model)\n",
    "\n",
    "if mask:\n",
    "    mask_label = 'mask'\n",
    "else:\n",
    "    mask_label = 'no_mask'\n",
    "    \n",
    "label = f'embed{embed_dim}_hid{hidden_dim}_{n_transformer}trans_{n_head}head_dropout{dropout}_{mask_label}'\n",
    "print('label:', label)"
   ]
  },
  {
   "cell_type": "markdown",
   "id": "f9d8f58a",
   "metadata": {},
   "source": [
    "## Pad data (Optional)"
   ]
  },
  {
   "cell_type": "code",
   "execution_count": 8,
   "id": "c0ed8196",
   "metadata": {},
   "outputs": [
    {
     "data": {
      "application/vnd.jupyter.widget-view+json": {
       "model_id": "1e238f5f83804bceaab7ed77b6382fa9",
       "version_major": 2,
       "version_minor": 0
      },
      "text/plain": [
       "  0%|          | 0/1 [00:00<?, ?it/s]"
      ]
     },
     "metadata": {},
     "output_type": "display_data"
    },
    {
     "name": "stderr",
     "output_type": "stream",
     "text": [
      "/eos/home-i00/t/tihsu/SWAN_projects/ML_hackathon/tdsm_encoder/util/dataset_structure.py:10: UserWarning:\n",
      "\n",
      "To copy construct from a tensor, it is recommended to use sourceTensor.clone().detach() or sourceTensor.clone().detach().requires_grad_(True), rather than torch.tensor(sourceTensor).\n",
      "\n"
     ]
    }
   ],
   "source": [
    "files_list_ = []\n",
    "for filename in os.listdir(dataset_store_path):\n",
    "    if fnmatch.fnmatch(filename, '*' + dataset + '*.pt'):\n",
    "        files_list_.append(os.path.join(dataset_store_path, filename))\n",
    "        \n",
    "tqdm_file = tqdm.notebook.trange(len(files_list_))\n",
    "os.system(\"mkdir -p samples\")\n",
    "for index in tqdm_file:\n",
    "    file_name = files_list_[index]\n",
    "    data = util.dataset_structure.cloud_dataset(file_name, device=device)\n",
    "    data.padding()\n",
    "    data.save(os.path.join(\"samples\", (file_name.split('/')[-1]).replace('no_pedding','padding')))"
   ]
  },
  {
   "cell_type": "markdown",
   "id": "681173e7",
   "metadata": {},
   "source": [
    "## Plot data distribution (Optional)"
   ]
  },
  {
   "cell_type": "code",
   "execution_count": 8,
   "id": "0b7a9ecc",
   "metadata": {},
   "outputs": [
    {
     "name": "stderr",
     "output_type": "stream",
     "text": [
      "/eos/home-i00/t/tihsu/SWAN_projects/ML_hackathon/tdsm_encoder/util/dataset_structure.py:10: UserWarning:\n",
      "\n",
      "To copy construct from a tensor, it is recommended to use sourceTensor.clone().detach() or sourceTensor.clone().detach().requires_grad_(True), rather than torch.tensor(sourceTensor).\n",
      "\n"
     ]
    },
    {
     "data": {
      "image/png": "[encoded data removed]",
      "text/plain": [
       "<Figure size 864x864 with 6 Axes>"
      ]
     },
     "metadata": {
      "needs_background": "light"
     },
     "output_type": "display_data"
    }
   ],
   "source": [
    "plot_file_name = \"samples/toy_model.pt\"\n",
    "custom_data = util.dataset_structure.cloud_dataset(plot_file_name,device=device, transform=transform, transform_y=transform_y)\n",
    "point_clouds_loader = DataLoader(custom_data, batch_size=150, shuffle=False)\n",
    "fig = util.display.plot_distribution(point_clouds_loader, label=\"Geant4\")\n",
    "fig.show()"
   ]
  },
  {
   "cell_type": "markdown",
   "id": "25ad8532",
   "metadata": {},
   "source": [
    "## Training"
   ]
  },
  {
   "cell_type": "markdown",
   "id": "f20520d2",
   "metadata": {},
   "source": [
    "### Start to train!!"
   ]
  },
  {
   "cell_type": "code",
   "execution_count": 9,
   "id": "a7dd95fa",
   "metadata": {
    "scrolled": true
   },
   "outputs": [
    {
     "name": "stdout",
     "output_type": "stream",
     "text": [
      "Output directory:  training_result/embed64_hid128_6trans_4head_dropout0_mask/\n"
     ]
    },
    {
     "data": {
      "application/vnd.jupyter.widget-view+json": {
       "model_id": "4b3bfd70a839440ca75d510701948afa",
       "version_major": 2,
       "version_minor": 0
      },
      "text/plain": [
       "  0%|          | 0/500 [00:00<?, ?it/s]"
      ]
     },
     "metadata": {},
     "output_type": "display_data"
    },
    {
     "data": {
      "image/png": "[encoded data removed]",
      "text/plain": [
       "<Figure size 288x288 with 1 Axes>"
      ]
     },
     "metadata": {},
     "output_type": "display_data"
    },
    {
     "data": {
      "text/plain": [
       "Gen(\n",
       "  (embed): Linear(in_features=4, out_features=64, bias=True)\n",
       "  (embed_t): Sequential(\n",
       "    (0): GaussianFourierProjection()\n",
       "    (1): Linear(in_features=64, out_features=64, bias=True)\n",
       "  )\n",
       "  (dense1): Dense(\n",
       "    (dense): Linear(in_features=64, out_features=1, bias=True)\n",
       "  )\n",
       "  (encoder): ModuleList(\n",
       "    (0): Block(\n",
       "      (attn): MultiheadAttention(\n",
       "        (out_proj): NonDynamicallyQuantizableLinear(in_features=64, out_features=64, bias=True)\n",
       "      )\n",
       "      (dropout): Dropout(p=0, inplace=False)\n",
       "      (fc1): Linear(in_features=64, out_features=128, bias=True)\n",
       "      (fc2): Linear(in_features=128, out_features=64, bias=True)\n",
       "      (fc1_cls): Linear(in_features=64, out_features=128, bias=True)\n",
       "      (fc2_cls): Linear(in_features=128, out_features=64, bias=True)\n",
       "      (act): GELU()\n",
       "      (act_dropout): Dropout(p=0, inplace=False)\n",
       "    )\n",
       "    (1): Block(\n",
       "      (attn): MultiheadAttention(\n",
       "        (out_proj): NonDynamicallyQuantizableLinear(in_features=64, out_features=64, bias=True)\n",
       "      )\n",
       "      (dropout): Dropout(p=0, inplace=False)\n",
       "      (fc1): Linear(in_features=64, out_features=128, bias=True)\n",
       "      (fc2): Linear(in_features=128, out_features=64, bias=True)\n",
       "      (fc1_cls): Linear(in_features=64, out_features=128, bias=True)\n",
       "      (fc2_cls): Linear(in_features=128, out_features=64, bias=True)\n",
       "      (act): GELU()\n",
       "      (act_dropout): Dropout(p=0, inplace=False)\n",
       "    )\n",
       "    (2): Block(\n",
       "      (attn): MultiheadAttention(\n",
       "        (out_proj): NonDynamicallyQuantizableLinear(in_features=64, out_features=64, bias=True)\n",
       "      )\n",
       "      (dropout): Dropout(p=0, inplace=False)\n",
       "      (fc1): Linear(in_features=64, out_features=128, bias=True)\n",
       "      (fc2): Linear(in_features=128, out_features=64, bias=True)\n",
       "      (fc1_cls): Linear(in_features=64, out_features=128, bias=True)\n",
       "      (fc2_cls): Linear(in_features=128, out_features=64, bias=True)\n",
       "      (act): GELU()\n",
       "      (act_dropout): Dropout(p=0, inplace=False)\n",
       "    )\n",
       "    (3): Block(\n",
       "      (attn): MultiheadAttention(\n",
       "        (out_proj): NonDynamicallyQuantizableLinear(in_features=64, out_features=64, bias=True)\n",
       "      )\n",
       "      (dropout): Dropout(p=0, inplace=False)\n",
       "      (fc1): Linear(in_features=64, out_features=128, bias=True)\n",
       "      (fc2): Linear(in_features=128, out_features=64, bias=True)\n",
       "      (fc1_cls): Linear(in_features=64, out_features=128, bias=True)\n",
       "      (fc2_cls): Linear(in_features=128, out_features=64, bias=True)\n",
       "      (act): GELU()\n",
       "      (act_dropout): Dropout(p=0, inplace=False)\n",
       "    )\n",
       "    (4): Block(\n",
       "      (attn): MultiheadAttention(\n",
       "        (out_proj): NonDynamicallyQuantizableLinear(in_features=64, out_features=64, bias=True)\n",
       "      )\n",
       "      (dropout): Dropout(p=0, inplace=False)\n",
       "      (fc1): Linear(in_features=64, out_features=128, bias=True)\n",
       "      (fc2): Linear(in_features=128, out_features=64, bias=True)\n",
       "      (fc1_cls): Linear(in_features=64, out_features=128, bias=True)\n",
       "      (fc2_cls): Linear(in_features=128, out_features=64, bias=True)\n",
       "      (act): GELU()\n",
       "      (act_dropout): Dropout(p=0, inplace=False)\n",
       "    )\n",
       "    (5): Block(\n",
       "      (attn): MultiheadAttention(\n",
       "        (out_proj): NonDynamicallyQuantizableLinear(in_features=64, out_features=64, bias=True)\n",
       "      )\n",
       "      (dropout): Dropout(p=0, inplace=False)\n",
       "      (fc1): Linear(in_features=64, out_features=128, bias=True)\n",
       "      (fc2): Linear(in_features=128, out_features=64, bias=True)\n",
       "      (fc1_cls): Linear(in_features=64, out_features=128, bias=True)\n",
       "      (fc2_cls): Linear(in_features=128, out_features=64, bias=True)\n",
       "      (act): GELU()\n",
       "      (act_dropout): Dropout(p=0, inplace=False)\n",
       "    )\n",
       "  )\n",
       "  (dropout): Dropout(p=0, inplace=False)\n",
       "  (out): Linear(in_features=64, out_features=4, bias=True)\n",
       "  (act): GELU()\n",
       ")"
      ]
     },
     "execution_count": 9,
     "metadata": {},
     "output_type": "execute_result"
    },
    {
     "data": {
      "image/png": "[encoded data removed]",
      "text/plain": [
       "<Figure size 288x288 with 1 Axes>"
      ]
     },
     "metadata": {
      "needs_background": "light"
     },
     "output_type": "display_data"
    }
   ],
   "source": [
    "util.model.training(batch_size = batch_size,\n",
    "                    lr = lr,\n",
    "                    n_epochs = n_epochs,\n",
    "                    model = model,\n",
    "                    new_marginal_prob_std_fn = new_marginal_prob_std_fn,\n",
    "                    device = device,\n",
    "                    jupyternotebook = True,\n",
    "                    files_list = files_list_,\n",
    "                    train_ratio = train_ratio,\n",
    "                    mask=mask, padding_value=padding_value,\n",
    "                    label=label,\n",
    "                    transform = transform,\n",
    "                    transform_y = transform_y)"
   ]
  },
  {
   "cell_type": "markdown",
   "id": "28c5a04c",
   "metadata": {},
   "source": [
    "## Sampling "
   ]
  },
  {
   "cell_type": "code",
   "execution_count": 10,
   "id": "26d03caa",
   "metadata": {
    "scrolled": false
   },
   "outputs": [
    {
     "name": "stdout",
     "output_type": "stream",
     "text": [
      "output_directory: sampling/embed64_hid128_6trans_4head_dropout0_mask\n",
      "Progress: 1/2"
     ]
    },
    {
     "data": {
      "application/vnd.jupyter.widget-view+json": {
       "model_id": "60b365b6f1404787980627a3e027fce8",
       "version_major": 2,
       "version_minor": 0
      },
      "text/plain": [
       "  0%|          | 0/100 [00:00<?, ?it/s]"
      ]
     },
     "metadata": {},
     "output_type": "display_data"
    },
    {
     "name": "stdout",
     "output_type": "stream",
     "text": [
      "\r",
      "Progress: 2/2"
     ]
    },
    {
     "data": {
      "application/vnd.jupyter.widget-view+json": {
       "model_id": "d3e611a823b145359af2020064eee938",
       "version_major": 2,
       "version_minor": 0
      },
      "text/plain": [
       "  0%|          | 0/100 [00:00<?, ?it/s]"
      ]
     },
     "metadata": {},
     "output_type": "display_data"
    }
   ],
   "source": [
    "hits_energies = torch.rand(20000)*200\n",
    "sample, in_energies, nhits = util.model.generate_sample(model=model,\n",
    "                                                        marginal_prob_std=new_marginal_prob_std_fn, \n",
    "                                                        diffusion_coeff=new_diffusion_coeff_fn,\n",
    "                                                        sample_batch_size=10000,\n",
    "                                                        n_bin=200,\n",
    "                                                        load_name = \"training_result/\"+label+\"/ckpt_tmp_499.pth\",\n",
    "                                                        device=device,\n",
    "                                                        in_energies=hits_energies,\n",
    "                                                        sampled_file_list=[\"samples/toy_model.pt\"],\n",
    "                                                        mask=mask, \n",
    "                                                        jupyternotebook=True,\n",
    "                                                        label = label,\n",
    "                                                        transform = transform,\n",
    "                                                        transform_y = transform_y,\n",
    "                                                        padding_value=0)"
   ]
  },
  {
   "cell_type": "markdown",
   "id": "717a064f",
   "metadata": {},
   "source": [
    "## Draw Generative Distribution"
   ]
  },
  {
   "cell_type": "code",
   "execution_count": null,
   "id": "30b64eba",
   "metadata": {},
   "outputs": [],
   "source": [
    "plot_file_name = \"sampling/\"+label+\"/sample.pt\"\n",
    "custom_data = util.dataset_structure.cloud_dataset(plot_file_name,device=device, transform = transform, transform_y=transform_y)\n",
    "custom_data.padding()\n",
    "point_clouds_loader = DataLoader(custom_data, batch_size=150, shuffle=False)\n",
    "fig = util.display.plot_distribution(point_clouds_loader, label=\"Gen\")\n",
    "fig.show()"
   ]
  },
  {
   "cell_type": "code",
   "execution_count": null,
   "id": "35ea78a9",
   "metadata": {},
   "outputs": [],
   "source": []
  }
 ],
 "metadata": {
  "kernelspec": {
   "display_name": "Python 3",
   "language": "python",
   "name": "python3"
  },
  "language_info": {
   "codemirror_mode": {
    "name": "ipython",
    "version": 3
   },
   "file_extension": ".py",
   "mimetype": "text/x-python",
   "name": "python",
   "nbconvert_exporter": "python",
   "pygments_lexer": "ipython3",
   "version": "3.9.12"
  }
 },
 "nbformat": 4,
 "nbformat_minor": 5
}
